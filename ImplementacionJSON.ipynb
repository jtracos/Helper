{
  "nbformat": 4,
  "nbformat_minor": 0,
  "metadata": {
    "colab": {
      "name": "ImplementacionJSON.ipynb",
      "provenance": [],
      "collapsed_sections": [
        "MSe7Rn7exP4_",
        "iyMpQuZBEDvB"
      ],
      "authorship_tag": "ABX9TyNnRZx488RaVtL/ktWjmgSs",
      "include_colab_link": true
    },
    "kernelspec": {
      "name": "python3",
      "display_name": "Python 3"
    },
    "language_info": {
      "name": "python"
    }
  },
  "cells": [
    {
      "cell_type": "markdown",
      "metadata": {
        "id": "view-in-github",
        "colab_type": "text"
      },
      "source": [
        "<a href=\"https://colab.research.google.com/github/jtracos/Helper/blob/main/ImplementacionJSON.ipynb\" target=\"_parent\"><img src=\"https://colab.research.google.com/assets/colab-badge.svg\" alt=\"Open In Colab\"/></a>"
      ]
    },
    {
      "cell_type": "code",
      "metadata": {
        "id": "i5WgLDlGZoEY"
      },
      "source": [
        "import numpy as np\n",
        "import pandas as pd\n",
        "import matplotlib.pyplot as plt\n",
        "import seaborn as sns\n",
        "import urllib\n",
        "import re\n",
        "import os\n",
        "import datetime\n",
        "import pytz\n",
        "import json\n",
        "import glob"
      ],
      "execution_count": 2,
      "outputs": []
    },
    {
      "cell_type": "markdown",
      "source": [
        "# Parte 1"
      ],
      "metadata": {
        "id": "o3fHnYT9K7Sa"
      }
    },
    {
      "cell_type": "code",
      "metadata": {
        "id": "WGKHVKjGxZfH"
      },
      "source": [
        "def get_eval(df, f):\n",
        "  for d in df[\"dis\"]:\n",
        "    df[\"amp_obs\"] = f(d)"
      ],
      "execution_count": null,
      "outputs": []
    },
    {
      "cell_type": "code",
      "metadata": {
        "id": "GMVnHA6CzVPY"
      },
      "source": [
        "with open(\"dvdf.txt\", mode = \"w\") as f:\n",
        "  for valor in [2,3,4,5,6,7]:\n",
        "    f.write(str(valor) + \"\\n\")"
      ],
      "execution_count": null,
      "outputs": []
    },
    {
      "cell_type": "code",
      "metadata": {
        "id": "AiAo3f6ow724"
      },
      "source": [
        "#forma normal\n",
        "ar = []\n",
        "for d in df[\"dis\"]:\n",
        "  ar.append(f(d))\n",
        "\n",
        "#comprehension\n",
        "ar = [f(d) for d in df[\"dis\"]]\n",
        "\n",
        "def get_eval(df, f):\n",
        "  df[\"amp-obs\"] = [f(d) for d in df[\"dis\"]]"
      ],
      "execution_count": null,
      "outputs": []
    },
    {
      "cell_type": "code",
      "metadata": {
        "colab": {
          "base_uri": "https://localhost:8080/",
          "height": 143
        },
        "id": "ICaYl9vRy_n3",
        "outputId": "c8f047f3-5834-4860-b61c-0fdd802c5cc8"
      },
      "source": [
        "df = pd.DataFrame({\"da\":[1,2,3],\n",
        "                   \"ca\":[2,4,5],\n",
        "                   \"aa\":[3,4,5]})\n",
        "df1 = pd.DataFrame({\"da\":[3,2,1],\n",
        "                   \"ca\":[2,23,100],\n",
        "                   \"aa\":[13,44,51]})\n",
        "df1.head()"
      ],
      "execution_count": null,
      "outputs": [
        {
          "output_type": "execute_result",
          "data": {
            "text/html": [
              "<div>\n",
              "<style scoped>\n",
              "    .dataframe tbody tr th:only-of-type {\n",
              "        vertical-align: middle;\n",
              "    }\n",
              "\n",
              "    .dataframe tbody tr th {\n",
              "        vertical-align: top;\n",
              "    }\n",
              "\n",
              "    .dataframe thead th {\n",
              "        text-align: right;\n",
              "    }\n",
              "</style>\n",
              "<table border=\"1\" class=\"dataframe\">\n",
              "  <thead>\n",
              "    <tr style=\"text-align: right;\">\n",
              "      <th></th>\n",
              "      <th>da</th>\n",
              "      <th>ca</th>\n",
              "      <th>aa</th>\n",
              "    </tr>\n",
              "  </thead>\n",
              "  <tbody>\n",
              "    <tr>\n",
              "      <th>0</th>\n",
              "      <td>3</td>\n",
              "      <td>2</td>\n",
              "      <td>13</td>\n",
              "    </tr>\n",
              "    <tr>\n",
              "      <th>1</th>\n",
              "      <td>2</td>\n",
              "      <td>23</td>\n",
              "      <td>44</td>\n",
              "    </tr>\n",
              "    <tr>\n",
              "      <th>2</th>\n",
              "      <td>1</td>\n",
              "      <td>100</td>\n",
              "      <td>51</td>\n",
              "    </tr>\n",
              "  </tbody>\n",
              "</table>\n",
              "</div>"
            ],
            "text/plain": [
              "   da   ca  aa\n",
              "0   3    2  13\n",
              "1   2   23  44\n",
              "2   1  100  51"
            ]
          },
          "metadata": {},
          "execution_count": 27
        }
      ]
    },
    {
      "cell_type": "code",
      "metadata": {
        "id": "nhDAINzM5u7q"
      },
      "source": [
        "#principios\n",
        "dic_vals = df[[\"aa\",\"ca\"]].to_dict()\n",
        "dic1_vals = df1[[\"aa\",\"ca\"]].to_dict()\n",
        "\n",
        "final = {\n",
        "    \"file1\": dic_vals,\n",
        "    \"file2\": dic1_vals\n",
        "}\n",
        "\n",
        "with open(\"variables.json\", mode = \"w\") as file:\n",
        "  json.dump(final, file)\n"
      ],
      "execution_count": null,
      "outputs": []
    },
    {
      "cell_type": "code",
      "metadata": {
        "id": "PHLDC4-h6opV"
      },
      "source": [
        "a = np.array([2,3,4,5])\n",
        "with open(\"numpy2json.json\", mode = \"w\") as file:\n",
        "  json.dump(a.tolist() , file)"
      ],
      "execution_count": null,
      "outputs": []
    },
    {
      "cell_type": "code",
      "metadata": {
        "id": "cmGfBlpZ1ZU7"
      },
      "source": [
        "#mejoras\n",
        "final = {}\n",
        "\n",
        "def add_valor(nombre_campo, df):\n",
        "  final[nombre_campo] = df[[\"aa\", \"ca\"]].to_dict()\n",
        "\n",
        "\n",
        "def guardar_datos(file_name, diccionario):\n",
        "  with open(file_name, mode = \"w\") as file:\n",
        "    json.dump(diccionario, file)"
      ],
      "execution_count": null,
      "outputs": []
    },
    {
      "cell_type": "code",
      "metadata": {
        "id": "oYbkanwI3lKV"
      },
      "source": [
        "add_valor(\"tabla1\", df)"
      ],
      "execution_count": null,
      "outputs": []
    },
    {
      "cell_type": "code",
      "metadata": {
        "colab": {
          "base_uri": "https://localhost:8080/"
        },
        "id": "qdTT1mc36DF_",
        "outputId": "7fae15b5-7bc7-44ce-9624-abdd0d9065a5"
      },
      "source": [
        "final"
      ],
      "execution_count": null,
      "outputs": [
        {
          "output_type": "execute_result",
          "data": {
            "text/plain": [
              "{'valores1': {'aa': {0: 3, 1: 4, 2: 5}, 'ca': {0: 2, 1: 4, 2: 5}}}"
            ]
          },
          "metadata": {},
          "execution_count": 44
        }
      ]
    },
    {
      "cell_type": "code",
      "metadata": {
        "colab": {
          "base_uri": "https://localhost:8080/"
        },
        "id": "cpmmz8sS7YLG",
        "outputId": "9573c808-30cf-4910-d791-80b2ed74fe30"
      },
      "source": [
        "add_valor(\"tabla2\", df1)\n",
        "final"
      ],
      "execution_count": null,
      "outputs": [
        {
          "output_type": "execute_result",
          "data": {
            "text/plain": [
              "{'valores1': {'aa': {0: 3, 1: 4, 2: 5}, 'ca': {0: 2, 1: 4, 2: 5}},\n",
              " 'valores2': {'aa': {0: 13, 1: 44, 2: 51}, 'ca': {0: 2, 1: 23, 2: 100}}}"
            ]
          },
          "metadata": {},
          "execution_count": 46
        }
      ]
    },
    {
      "cell_type": "code",
      "metadata": {
        "id": "-RoEV9GV7he6"
      },
      "source": [
        "guardar_datos(\"variables.json\", final)"
      ],
      "execution_count": null,
      "outputs": []
    },
    {
      "cell_type": "code",
      "metadata": {
        "id": "vku-TJ7v2IX1"
      },
      "source": [
        "rewind =json.load(open(\"variables.json\"))"
      ],
      "execution_count": null,
      "outputs": []
    },
    {
      "cell_type": "code",
      "metadata": {
        "colab": {
          "base_uri": "https://localhost:8080/"
        },
        "id": "OVnrJZYR85Ym",
        "outputId": "24a0a754-7436-48c0-bae2-646b958d3b24"
      },
      "source": [
        "rewind.keys()"
      ],
      "execution_count": null,
      "outputs": [
        {
          "output_type": "execute_result",
          "data": {
            "text/plain": [
              "dict_keys(['valores1', 'valores2'])"
            ]
          },
          "metadata": {},
          "execution_count": 53
        }
      ]
    },
    {
      "cell_type": "code",
      "metadata": {
        "colab": {
          "base_uri": "https://localhost:8080/",
          "height": 143
        },
        "id": "1848-w5f9BJQ",
        "outputId": "8c183bd4-e602-406a-ba60-856473c80b02"
      },
      "source": [
        "pd.DataFrame(rewind[\"valores1\"])"
      ],
      "execution_count": null,
      "outputs": [
        {
          "output_type": "execute_result",
          "data": {
            "text/html": [
              "<div>\n",
              "<style scoped>\n",
              "    .dataframe tbody tr th:only-of-type {\n",
              "        vertical-align: middle;\n",
              "    }\n",
              "\n",
              "    .dataframe tbody tr th {\n",
              "        vertical-align: top;\n",
              "    }\n",
              "\n",
              "    .dataframe thead th {\n",
              "        text-align: right;\n",
              "    }\n",
              "</style>\n",
              "<table border=\"1\" class=\"dataframe\">\n",
              "  <thead>\n",
              "    <tr style=\"text-align: right;\">\n",
              "      <th></th>\n",
              "      <th>aa</th>\n",
              "      <th>ca</th>\n",
              "    </tr>\n",
              "  </thead>\n",
              "  <tbody>\n",
              "    <tr>\n",
              "      <th>0</th>\n",
              "      <td>3</td>\n",
              "      <td>2</td>\n",
              "    </tr>\n",
              "    <tr>\n",
              "      <th>1</th>\n",
              "      <td>4</td>\n",
              "      <td>4</td>\n",
              "    </tr>\n",
              "    <tr>\n",
              "      <th>2</th>\n",
              "      <td>5</td>\n",
              "      <td>5</td>\n",
              "    </tr>\n",
              "  </tbody>\n",
              "</table>\n",
              "</div>"
            ],
            "text/plain": [
              "   aa  ca\n",
              "0   3   2\n",
              "1   4   4\n",
              "2   5   5"
            ]
          },
          "metadata": {},
          "execution_count": 54
        }
      ]
    },
    {
      "cell_type": "markdown",
      "metadata": {
        "id": "MSe7Rn7exP4_"
      },
      "source": [
        "# Parte 2"
      ]
    },
    {
      "cell_type": "code",
      "metadata": {
        "id": "m4iLxBMD0fX_"
      },
      "source": [
        "#files = os.listdir(\"/content/\")\n",
        "os.chdir('/content/')\n",
        "files_comp = glob.glob('*e-*.txt')\n",
        "files = glob.glob('*.txt')"
      ],
      "execution_count": 44,
      "outputs": []
    },
    {
      "cell_type": "code",
      "metadata": {
        "id": "Xz7pqGe00e3U",
        "colab": {
          "base_uri": "https://localhost:8080/"
        },
        "outputId": "4dee1796-4ad9-4d0d-e958-ee8329945836"
      },
      "source": [
        "#regex = re.compile(r'[A-Za-z]{4}|\\d{2,}')\n",
        "regex = re.compile(r'[A-Za-z]{4}|\\d{2,}')\n",
        "metadata = [regex.findall(f) for f in files_comp]\n",
        "metadata"
      ],
      "execution_count": 45,
      "outputs": [
        {
          "output_type": "execute_result",
          "data": {
            "text/plain": [
              "[['babh', '929'], ['slgb', '1312'], ['slgb', '1314']]"
            ]
          },
          "metadata": {},
          "execution_count": 45
        }
      ]
    },
    {
      "cell_type": "code",
      "metadata": {
        "colab": {
          "base_uri": "https://localhost:8080/"
        },
        "id": "DKQRzVnb7EdO",
        "outputId": "b5d9ff2c-356f-4899-8c6c-473f809a1539"
      },
      "source": [
        "all = []\n",
        "for row in metadata:\n",
        "  tmp = []\n",
        "  for f in files:\n",
        "    if row[0] in f and row[1] in f:\n",
        "      tmp.append(f)\n",
        "  all.append(tmp)\n",
        "all"
      ],
      "execution_count": 51,
      "outputs": [
        {
          "output_type": "execute_result",
          "data": {
            "text/plain": [
              "[['babhe-ev929.txt', 'babhn-ev929.txt'],\n",
              " ['slgbe-ev1312.txt', 'slgbn-ev1312.txt'],\n",
              " ['slgbn-ev1314.txt', 'slgbe-ev1314.txt']]"
            ]
          },
          "metadata": {},
          "execution_count": 51
        }
      ]
    },
    {
      "cell_type": "code",
      "source": [
        "dfs= [pd.read_csv(f, skiprows=1, sep='\\s+',header=None, names=['freq',f'amp{e}']) for e,f in enumerate(all[0])]"
      ],
      "metadata": {
        "id": "zM3O2CKNTQA1"
      },
      "execution_count": 69,
      "outputs": []
    },
    {
      "cell_type": "code",
      "source": [
        "dfs =[]\n",
        "for e,f in enumerate(all[0]):\n",
        "  df_ = pd.read_csv(f, skiprows=1, sep='\\s+',header=None, names=['freq',f'amp{e}']) \n",
        "  dfs.append(df_)"
      ],
      "metadata": {
        "id": "MLaUu44BWT56"
      },
      "execution_count": 78,
      "outputs": []
    },
    {
      "cell_type": "code",
      "metadata": {
        "id": "FrJ6bIjK6jpm",
        "colab": {
          "base_uri": "https://localhost:8080/",
          "height": 237
        },
        "outputId": "f1f532a3-1309-4d0e-f1f5-e9cf48d8b6cc"
      },
      "source": [
        "df_temp = dfs[0].set_index('freq').join(dfs[1].set_index('freq'), how='inner')\n",
        "df_temp.head()"
      ],
      "execution_count": 87,
      "outputs": [
        {
          "output_type": "execute_result",
          "data": {
            "text/html": [
              "<div>\n",
              "<style scoped>\n",
              "    .dataframe tbody tr th:only-of-type {\n",
              "        vertical-align: middle;\n",
              "    }\n",
              "\n",
              "    .dataframe tbody tr th {\n",
              "        vertical-align: top;\n",
              "    }\n",
              "\n",
              "    .dataframe thead th {\n",
              "        text-align: right;\n",
              "    }\n",
              "</style>\n",
              "<table border=\"1\" class=\"dataframe\">\n",
              "  <thead>\n",
              "    <tr style=\"text-align: right;\">\n",
              "      <th></th>\n",
              "      <th>amp0</th>\n",
              "      <th>amp1</th>\n",
              "    </tr>\n",
              "    <tr>\n",
              "      <th>freq</th>\n",
              "      <th></th>\n",
              "      <th></th>\n",
              "    </tr>\n",
              "  </thead>\n",
              "  <tbody>\n",
              "    <tr>\n",
              "      <th>0.10</th>\n",
              "      <td>-1.000000</td>\n",
              "      <td>-1.000000</td>\n",
              "    </tr>\n",
              "    <tr>\n",
              "      <th>0.13</th>\n",
              "      <td>-1.000000</td>\n",
              "      <td>-1.000000</td>\n",
              "    </tr>\n",
              "    <tr>\n",
              "      <th>0.16</th>\n",
              "      <td>0.000056</td>\n",
              "      <td>0.000013</td>\n",
              "    </tr>\n",
              "    <tr>\n",
              "      <th>0.20</th>\n",
              "      <td>0.000059</td>\n",
              "      <td>0.000020</td>\n",
              "    </tr>\n",
              "    <tr>\n",
              "      <th>0.25</th>\n",
              "      <td>0.000063</td>\n",
              "      <td>0.000031</td>\n",
              "    </tr>\n",
              "  </tbody>\n",
              "</table>\n",
              "</div>"
            ],
            "text/plain": [
              "          amp0      amp1\n",
              "freq                    \n",
              "0.10 -1.000000 -1.000000\n",
              "0.13 -1.000000 -1.000000\n",
              "0.16  0.000056  0.000013\n",
              "0.20  0.000059  0.000020\n",
              "0.25  0.000063  0.000031"
            ]
          },
          "metadata": {},
          "execution_count": 87
        }
      ]
    },
    {
      "cell_type": "code",
      "metadata": {
        "id": "uhJvw-tj2S1v",
        "colab": {
          "base_uri": "https://localhost:8080/",
          "height": 206
        },
        "outputId": "4b2d7c9d-da28-45bf-9377-6cb29e54dd3f"
      },
      "source": [
        "df_temp= df_temp.reset_index(0)\n",
        "df_temp.head()"
      ],
      "execution_count": 88,
      "outputs": [
        {
          "output_type": "execute_result",
          "data": {
            "text/html": [
              "<div>\n",
              "<style scoped>\n",
              "    .dataframe tbody tr th:only-of-type {\n",
              "        vertical-align: middle;\n",
              "    }\n",
              "\n",
              "    .dataframe tbody tr th {\n",
              "        vertical-align: top;\n",
              "    }\n",
              "\n",
              "    .dataframe thead th {\n",
              "        text-align: right;\n",
              "    }\n",
              "</style>\n",
              "<table border=\"1\" class=\"dataframe\">\n",
              "  <thead>\n",
              "    <tr style=\"text-align: right;\">\n",
              "      <th></th>\n",
              "      <th>freq</th>\n",
              "      <th>amp0</th>\n",
              "      <th>amp1</th>\n",
              "    </tr>\n",
              "  </thead>\n",
              "  <tbody>\n",
              "    <tr>\n",
              "      <th>0</th>\n",
              "      <td>0.10</td>\n",
              "      <td>-1.000000</td>\n",
              "      <td>-1.000000</td>\n",
              "    </tr>\n",
              "    <tr>\n",
              "      <th>1</th>\n",
              "      <td>0.13</td>\n",
              "      <td>-1.000000</td>\n",
              "      <td>-1.000000</td>\n",
              "    </tr>\n",
              "    <tr>\n",
              "      <th>2</th>\n",
              "      <td>0.16</td>\n",
              "      <td>0.000056</td>\n",
              "      <td>0.000013</td>\n",
              "    </tr>\n",
              "    <tr>\n",
              "      <th>3</th>\n",
              "      <td>0.20</td>\n",
              "      <td>0.000059</td>\n",
              "      <td>0.000020</td>\n",
              "    </tr>\n",
              "    <tr>\n",
              "      <th>4</th>\n",
              "      <td>0.25</td>\n",
              "      <td>0.000063</td>\n",
              "      <td>0.000031</td>\n",
              "    </tr>\n",
              "  </tbody>\n",
              "</table>\n",
              "</div>"
            ],
            "text/plain": [
              "   freq      amp0      amp1\n",
              "0  0.10 -1.000000 -1.000000\n",
              "1  0.13 -1.000000 -1.000000\n",
              "2  0.16  0.000056  0.000013\n",
              "3  0.20  0.000059  0.000020\n",
              "4  0.25  0.000063  0.000031"
            ]
          },
          "metadata": {},
          "execution_count": 88
        }
      ]
    },
    {
      "cell_type": "code",
      "source": [
        "df_temp['amplitud'] = df_temp.replace({\n",
        "    -1.000:0.0\n",
        "}).apply(lambda row: np.sqrt(row[1]**2 + row[2]**2), axis=1)\n",
        "\n",
        "df_temp = df_temp.drop(['amp0', 'amp1'], axis = 1)\n",
        "df_temp.head()\n"
      ],
      "metadata": {
        "colab": {
          "base_uri": "https://localhost:8080/",
          "height": 206
        },
        "id": "iF1OfQQcZFUw",
        "outputId": "b1d97361-6924-4202-e801-97f786637655"
      },
      "execution_count": 94,
      "outputs": [
        {
          "output_type": "execute_result",
          "data": {
            "text/html": [
              "<div>\n",
              "<style scoped>\n",
              "    .dataframe tbody tr th:only-of-type {\n",
              "        vertical-align: middle;\n",
              "    }\n",
              "\n",
              "    .dataframe tbody tr th {\n",
              "        vertical-align: top;\n",
              "    }\n",
              "\n",
              "    .dataframe thead th {\n",
              "        text-align: right;\n",
              "    }\n",
              "</style>\n",
              "<table border=\"1\" class=\"dataframe\">\n",
              "  <thead>\n",
              "    <tr style=\"text-align: right;\">\n",
              "      <th></th>\n",
              "      <th>freq</th>\n",
              "      <th>amplitud</th>\n",
              "    </tr>\n",
              "  </thead>\n",
              "  <tbody>\n",
              "    <tr>\n",
              "      <th>0</th>\n",
              "      <td>0.10</td>\n",
              "      <td>0.000000</td>\n",
              "    </tr>\n",
              "    <tr>\n",
              "      <th>1</th>\n",
              "      <td>0.13</td>\n",
              "      <td>0.000000</td>\n",
              "    </tr>\n",
              "    <tr>\n",
              "      <th>2</th>\n",
              "      <td>0.16</td>\n",
              "      <td>0.000057</td>\n",
              "    </tr>\n",
              "    <tr>\n",
              "      <th>3</th>\n",
              "      <td>0.20</td>\n",
              "      <td>0.000062</td>\n",
              "    </tr>\n",
              "    <tr>\n",
              "      <th>4</th>\n",
              "      <td>0.25</td>\n",
              "      <td>0.000070</td>\n",
              "    </tr>\n",
              "  </tbody>\n",
              "</table>\n",
              "</div>"
            ],
            "text/plain": [
              "   freq  amplitud\n",
              "0  0.10  0.000000\n",
              "1  0.13  0.000000\n",
              "2  0.16  0.000057\n",
              "3  0.20  0.000062\n",
              "4  0.25  0.000070"
            ]
          },
          "metadata": {},
          "execution_count": 94
        }
      ]
    },
    {
      "cell_type": "code",
      "source": [
        "df_temp.to_csv('estc.txt',sep=' ', float_format='%.4E') # write with precision .15"
      ],
      "metadata": {
        "id": "jNyN8oSuac0D"
      },
      "execution_count": 101,
      "outputs": []
    },
    {
      "cell_type": "code",
      "metadata": {
        "id": "XBfCMAHK2Slr"
      },
      "source": [
        "#Con expresiones regulares\n",
        "def select_file(path):\n",
        "  \"\"\"Funcion para seleccionar el archivo\"\"\"\n",
        "  files = os.listdir(path)\n",
        "  print(files)\n",
        "  fileidx = int(input(\"Indique el indice del archivo: \"))\n",
        "  return files[fileidx]\n",
        "\n",
        "\n",
        "\n",
        "\n",
        "def set_colname(file, regex = \"XX_[A-Z]{4}__[A-Z]{3}_\"):\n",
        "\n",
        "  with open(file) as f:\n",
        "    #Extraemos el texto\n",
        "    tmpfile = f.read()\n",
        "  #encontrar el nombre de la columna con regex\n",
        "  wrong = re.findall(regex, tmpfile)\n",
        "  #reemplazamos la parte incorrecta y ajustamos el nombre correctamente\n",
        "  nombre = wrong[0].replace(re.findall(\"_[A-Z]{3}_\", wrong[0])[0], \"_01_001_\")\n",
        "\n",
        "  return tmpfile.replace(wrong[0], nombre)\n",
        "\n",
        "\n",
        "\n",
        "#path = \"C:/User/MiAmor/Carpeta\"\n",
        "\n",
        "def apply_all(path, regex = \"XX_[A-Z]{4}__[A-Z]{3}_\"):\n",
        "  \"\"\"Funcion para aplicar las funciones\"\"\"\n",
        "  file = select_file(path)\n",
        "  abs_path = os.path.join(path, file)\n",
        "  renamed = set_colname(abs_path, regex = regex)\n",
        "  #return rename\n",
        "  with open(abs_path, mode = \"w\" ) as f:\n",
        "    f.write(renamed)"
      ],
      "execution_count": null,
      "outputs": []
    },
    {
      "cell_type": "code",
      "metadata": {
        "id": "_2Hu9kkHIRQ8"
      },
      "source": [
        ""
      ],
      "execution_count": null,
      "outputs": []
    },
    {
      "cell_type": "code",
      "metadata": {
        "id": "Kemkr3YTyECn"
      },
      "source": [
        ""
      ],
      "execution_count": null,
      "outputs": []
    },
    {
      "cell_type": "code",
      "metadata": {
        "id": "B7fPoaVk7GAY"
      },
      "source": [
        ""
      ],
      "execution_count": null,
      "outputs": []
    },
    {
      "cell_type": "code",
      "metadata": {
        "id": "tCOiJP5XDdFs"
      },
      "source": [
        "#Sin expresiones regulares\n",
        "def select_file(path):\n",
        "  \"\"\"Funcion para seleccionar el archivo\"\"\"\n",
        "  files = os.listdir(path)\n",
        "  print(files)\n",
        "  fileidx = int(input(\"Indique el indice del archivo: \"))\n",
        "  return files[fileidx]\n",
        "\n",
        "\n",
        "\n",
        "\n",
        "def set_colname(file):\n",
        "\n",
        "  with open(file) as f:\n",
        "    #Extraemos el texto\n",
        "    tmpfile = f.read()\n",
        "  #encontrar el nombre de la columna con regex\n",
        "  print(tmpfile)\n",
        "  wrong = input(\"Ingrese caracteres a cambiar: \")\n",
        "  #reemplazamos la parte incorrecta y ajustamos el nombre correctamente\n",
        "  nombre = input(\"Ingrese caracteres sustitutos: \")\n",
        "\n",
        "  return tmpfile.replace(wrong, nombre)\n",
        "\n",
        "\n",
        "\n",
        "#path = \"C:/User/MiAmor/Carpeta\"\n",
        "\n",
        "def apply_all(path):\n",
        "  \"\"\"Funcion para aplicar las funciones\"\"\"\n",
        "  file = select_file(path)\n",
        "  abs_path = os.path.join(path, file)\n",
        "  renamed = set_colname(abs_path)\n",
        "  #return rename\n",
        "  with open(abs_path, mode = \"w\" ) as f:\n",
        "    f.write(renamed)"
      ],
      "execution_count": null,
      "outputs": []
    },
    {
      "cell_type": "code",
      "metadata": {
        "id": "hfzwqHelEVSy"
      },
      "source": [
        "path = \"C:/ruta/a/carpetas\"\n",
        "folders = os.listdir(path) #lista las carpetas\n",
        "for folder in folders:\n",
        "  ruta = os.listdir(os.path.join(path, folder))\n",
        "  if os.path.isdir(ruta): #si es una carpeta, revisa los archivos\n",
        "    files = os.listdir(ruta)\n",
        "    for file in files:\n",
        "      try:# este bloque evita que de error si puede abrir el archivo\n",
        "        with open(os.path.join(ruta, file)) as f:\n",
        "            print(f.readline(1))#abre el archivo y muestra la primer liena\n",
        "        ev = int(input(\"Modificar archivo?: 1= SI\"))\n",
        "        if ev == 1:\n",
        "          text = set_colname(os.path.join(ruta, file)) # si es un archivo requerido, \n",
        "        #                                              lo modifica\n",
        "        with open(os.path.join(ruta, file), mode = \"w\") as f:\n",
        "          f.write(text)# escribe el archivo\n",
        "        except:\n",
        "          pass"
      ],
      "execution_count": null,
      "outputs": []
    },
    {
      "cell_type": "code",
      "metadata": {
        "id": "kyjWJZF-7Zx4"
      },
      "source": [
        "form =\"\"\"PLIB.20090803_215552.BHZ.ascii #nombre del sismograma de componente Vertical (Z). Los cuales ya han sido generados.\n",
        "101.20\t#profundidad del evento \n",
        "57.978 67.978 #inicio de la ventana de tiempo( Guardada en una variable)\n",
        "plibz-ev871.txt  #nombre de salida del archivo\n",
        "6\n",
        "SLGB.20090803_215552.BHZ.ascii\n",
        "65.69\n",
        "58.018 64.018\n",
        "slgbz-ev871.txt\n",
        "0\"\"\""
      ],
      "execution_count": null,
      "outputs": []
    },
    {
      "cell_type": "code",
      "metadata": {
        "colab": {
          "base_uri": "https://localhost:8080/"
        },
        "id": "eFqyiOYtiqH1",
        "outputId": "b4ff0dab-cb45-4445-d63b-9baa3fb5fad0"
      },
      "source": [
        "form1 =\"\"\"{file_name}\n",
        "{profundidad} \n",
        "{ventana[0]} {ventana[1]}\n",
        "{nombre_output}\n",
        "{fin}\"\"\".format(file_name = \"PLIB.20090803_215552.BHZ.ascii\",\n",
        "                profundidad = 101.20,\n",
        "                ventana = (57.978, 67.978), \n",
        "                nombre_output = \"slgbz-ev871.txt\",\n",
        "                fin = 0)\n",
        "print(form1)"
      ],
      "execution_count": null,
      "outputs": [
        {
          "output_type": "stream",
          "name": "stdout",
          "text": [
            "PLIB.20090803_215552.BHZ.ascii\n",
            "101.2 \n",
            "57.978 67.978\n",
            "slgbz-ev871.txt\n",
            "0\n"
          ]
        }
      ]
    },
    {
      "cell_type": "markdown",
      "metadata": {
        "id": "iyMpQuZBEDvB"
      },
      "source": [
        "# Parte 3"
      ]
    },
    {
      "cell_type": "code",
      "metadata": {
        "id": "_ipsjoSzwdGF"
      },
      "source": [
        ""
      ],
      "execution_count": null,
      "outputs": []
    },
    {
      "cell_type": "code",
      "metadata": {
        "id": "VAPBqCciqLP0"
      },
      "source": [
        "#context manager\n",
        "with open(\"bahbz-ev1293.txt\") as file:\n",
        "  lines = file.readlines()\n"
      ],
      "execution_count": null,
      "outputs": []
    },
    {
      "cell_type": "code",
      "metadata": {
        "id": "WrVfJiituTx_"
      },
      "source": [
        "def get_string(file):\n",
        "  with open(file) as f:\n",
        "    lines = f.readlines()\n",
        "  \n",
        "  idx = [idx for idx, line in enumerate(lines) if \"10.0\" in line][0]#ubicar donde 10.0\n",
        "  string = \"\".join(lines[:idx+1])\n",
        "  \n",
        "  with open(file, mode = \"w\") as f:\n",
        "    f.write(string)\n",
        "    return string\n",
        "\n",
        "\n",
        "print(get_string(\"bahbz-ev1293.txt\"))"
      ],
      "execution_count": null,
      "outputs": []
    },
    {
      "cell_type": "code",
      "metadata": {
        "id": "B1_6bBSU4wKd"
      },
      "source": [
        "def test(fn, **kwargs):\n",
        "  for _ in kwargs:\n",
        "    fn(_)"
      ],
      "execution_count": null,
      "outputs": []
    },
    {
      "cell_type": "code",
      "metadata": {
        "colab": {
          "base_uri": "https://localhost:8080/"
        },
        "id": "QpYAsDn-S7B8",
        "outputId": "c33770a4-db37-4089-81bc-0ba0355c0359"
      },
      "source": [
        "test(print, file = \"doc.txt\", file1 = \"doc3.txt\")"
      ],
      "execution_count": null,
      "outputs": [
        {
          "output_type": "stream",
          "name": "stdout",
          "text": [
            "file\n",
            "file1\n"
          ]
        }
      ]
    },
    {
      "cell_type": "code",
      "metadata": {
        "id": "Xb6G4cPfTTnT",
        "colab": {
          "base_uri": "https://localhost:8080/",
          "height": 36
        },
        "outputId": "e926d3d6-3edf-4531-b72d-81a3d42f26ea"
      },
      "source": [
        "path = os.path.join(\"/mnt\",\"sdcard\")\n",
        "path"
      ],
      "execution_count": null,
      "outputs": [
        {
          "output_type": "execute_result",
          "data": {
            "application/vnd.google.colaboratory.intrinsic+json": {
              "type": "string"
            },
            "text/plain": [
              "'/mnt/sdcard'"
            ]
          },
          "metadata": {},
          "execution_count": 24
        }
      ]
    },
    {
      "cell_type": "code",
      "metadata": {
        "colab": {
          "base_uri": "https://localhost:8080/"
        },
        "id": "TOyKGOmJkSyV",
        "outputId": "c0306848-9081-4e3c-8e1b-f3216594b944"
      },
      "source": [
        "type(path)"
      ],
      "execution_count": null,
      "outputs": [
        {
          "output_type": "execute_result",
          "data": {
            "text/plain": [
              "str"
            ]
          },
          "metadata": {},
          "execution_count": 25
        }
      ]
    },
    {
      "cell_type": "code",
      "metadata": {
        "id": "smSShjRlkYZz"
      },
      "source": [
        "import os\n",
        "import pathlib\n",
        "\n",
        "def remove_lines(folder, file, patterns =[\"*\", \"-\"]):\n",
        "    \"\"\"Remueve las lineas que contienen patrones listados y reescribe el archivo\n",
        "    original.\n",
        "    \n",
        "    Argumentos:\n",
        "    -------------------------------------------------------------\n",
        "        folder<String>: Ruta absoluta a la carpeta que contiene el archivo\n",
        "        file<String>: Nombre del archivo a filtrar\n",
        "        patterns<List>: Caracteres que contienen las lineas a ser removidas\n",
        "    \n",
        "    Returns:\n",
        "    ----------------------------------------------------------------\n",
        "        True, si el archivo puede editarse\n",
        "        False, si no es un archivo editable\n",
        "    \"\"\"\n",
        "    absolute = os.path.join(folder,file)\n",
        "    file = pathlib.Path(absolute)\n",
        "    if file.is_file():\n",
        "        with open(absolute, mode=\"r\") as f:\n",
        "            lines = f.read()\n",
        "        \n",
        "        filtered = []\n",
        "        for line in lines:\n",
        "            aux = 0\n",
        "            for pattern in patterns:\n",
        "                if pattern in line:\n",
        "                    aux +=1\n",
        "            if aux == 0:\n",
        "                filtered.append(line)\n",
        "        \n",
        "        res = \"\".join(filtered)\n",
        "        g = open(absolute, mode=\"w\")\n",
        "        g.write(res)\n",
        "        g.close()\n",
        "        return True\n",
        "    return False"
      ],
      "execution_count": null,
      "outputs": []
    },
    {
      "cell_type": "code",
      "metadata": {
        "id": "mGrXBDPxkbEP",
        "colab": {
          "base_uri": "https://localhost:8080/"
        },
        "outputId": "31bdc485-336c-40f0-d52b-2bada1e7992c"
      },
      "source": [
        "f = open(\"/content/doc.txt\")\n",
        "f.readlines()"
      ],
      "execution_count": null,
      "outputs": [
        {
          "output_type": "execute_result",
          "data": {
            "text/plain": [
              "['fag\\n',\n",
              " 'fddfd,sgg\\n',\n",
              " 'fdds\\n',\n",
              " 'faed.\\n',\n",
              " 'avsfbdb\\n',\n",
              " 'vsbf\\n',\n",
              " 'sdvs\\n',\n",
              " ' f\\n',\n",
              " 'dvv\\n',\n",
              " 'dvsdv,\\n',\n",
              " 'avddsb\\n',\n",
              " 'vbbab\\n',\n",
              " 'dvsdvdvsv\\n',\n",
              " 'dcbf,4546\\n',\n",
              " 'dsdg,\\n',\n",
              " 'fesf,']"
            ]
          },
          "metadata": {},
          "execution_count": 5
        }
      ]
    },
    {
      "cell_type": "code",
      "metadata": {
        "id": "-xisHuch1y6s",
        "colab": {
          "base_uri": "https://localhost:8080/",
          "height": 300
        },
        "outputId": "3e39e315-7bf3-4c03-d5e6-5e1f15b0bd01"
      },
      "source": [
        "import matplotlib\n",
        "#matplotlib.rc(\"text\", usetex = True)\n",
        "plt.plot([0,1], [0,1])\n",
        "plt.title(\"$\\mathbf{Intento 1}$\")"
      ],
      "execution_count": null,
      "outputs": [
        {
          "output_type": "execute_result",
          "data": {
            "text/plain": [
              "Text(0.5, 1.0, '$\\\\mathbf{Intento 1}$')"
            ]
          },
          "metadata": {},
          "execution_count": 5
        },
        {
          "output_type": "display_data",
          "data": {
            "image/png": "[encoded data removed]",
            "text/plain": [
              "<Figure size 432x288 with 1 Axes>"
            ]
          },
          "metadata": {
            "needs_background": "light"
          }
        }
      ]
    },
    {
      "cell_type": "code",
      "metadata": {
        "id": "a_rV2oI5QPJb"
      },
      "source": [
        ""
      ],
      "execution_count": null,
      "outputs": []
    }
  ]
}