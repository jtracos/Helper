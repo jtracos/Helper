{
  "nbformat": 4,
  "nbformat_minor": 0,
  "metadata": {
    "colab": {
      "name": "LinearRegression.ipynb",
      "provenance": [],
      "collapsed_sections": [],
      "authorship_tag": "ABX9TyOkKRMb5VDbHz3ZG8E/jaVx",
      "include_colab_link": true
    },
    "kernelspec": {
      "name": "python3",
      "display_name": "Python 3"
    },
    "language_info": {
      "name": "python"
    }
  },
  "cells": [
    {
      "cell_type": "markdown",
      "metadata": {
        "id": "view-in-github",
        "colab_type": "text"
      },
      "source": [
        "<a href=\"https://colab.research.google.com/github/jtracos/Helper/blob/main/LinearRegression.ipynb\" target=\"_parent\"><img src=\"https://colab.research.google.com/assets/colab-badge.svg\" alt=\"Open In Colab\"/></a>"
      ]
    },
    {
      "cell_type": "markdown",
      "metadata": {
        "id": "Fal-sTCn4hVg"
      },
      "source": [
        "<h2>Modelo de regresión lineal</h2>"
      ]
    },
    {
      "cell_type": "code",
      "metadata": {
        "id": "tu1FYKbHBCYv"
      },
      "source": [
        "#librerias necesarias para este caso\n",
        "import numpy as np\n",
        "import pandas as pd\n",
        "import matplotlib.pyplot as plt\n",
        "from sklearn import linear_model, preprocessing, pipeline"
      ],
      "execution_count": 3,
      "outputs": []
    },
    {
      "cell_type": "markdown",
      "metadata": {
        "id": "ZgyLdgdv4oPp"
      },
      "source": [
        "<p>\n",
        "  <span>Se puede implementar usando <b>scikit-learn</b> que, a pesar de su complejidad, es muy flexible y puede resultar útil al  desarrollar modelos estadísticos más complejos.</span>\n",
        "</p>\n",
        "<p>La documentación de este módulo está muy bien organizada y se encuentra <a href=\"https://scikit-learn.org/stable/index.html\"> aquí</a></p>\n",
        "<p>A continuación se muestra un ejemplo simple para un modelo de regresión polinomial</p>"
      ]
    },
    {
      "cell_type": "markdown",
      "metadata": {
        "id": "b1qm-SHh5pAh"
      },
      "source": [
        "<p>Generamos los datos para realizar las estimaciones del modelo.</p>\n",
        "<p>Usaremos un modelo polinomial de segundo orden</p>"
      ]
    },
    {
      "cell_type": "code",
      "metadata": {
        "colab": {
          "base_uri": "https://localhost:8080/",
          "height": 265
        },
        "id": "v5HTN9iABOw-",
        "outputId": "fd7d4d59-e1c7-4c25-a231-0e6bc8b5adee"
      },
      "source": [
        "x = np.linspace(-5,7, 30)# shape(30,)=>shape(30,1)\n",
        "x= x.reshape(x.shape[0],1) #el método reshape permite alterar las dimensiones de cualquier arreglo de numpy, si es posible hacerlo\n",
        "\n",
        "#el metodo squeeze regresa a una dimension cualquier matriz\n",
        "y = -1 + 4*x.squeeze() - 5*x.squeeze()**2 + np.random.random(x.shape[0])\n",
        "_ = plt.plot(x,y)"
      ],
      "execution_count": 4,
      "outputs": [
        {
          "output_type": "display_data",
          "data": {
            "image/png": "[encoded data removed]",
            "text/plain": [
              "<Figure size 432x288 with 1 Axes>"
            ]
          },
          "metadata": {
            "needs_background": "light"
          }
        }
      ]
    },
    {
      "cell_type": "markdown",
      "metadata": {
        "id": "dJ4TJpy96aLi"
      },
      "source": [
        "<p><i>sklearn</i> divide sus métodos en dos partes \n",
        "<ul>\n",
        "<li>transformers</li>\n",
        "y\n",
        "<li>estimadores</li>\n",
        "</ul>\n",
        "</p>\n",
        "<p>Los <b>transformadores</b> son métodos que permiten <i>transformar</i> los datos de una manera util. Estos tienen dos métodos esenciales\n",
        "<ul>\n",
        "<li>fit</li>\n",
        "Este método permite realizar la estimacion de los párametros necesarios para las transformación de las entradas\n",
        "<li>transform</li>\n",
        "Este métodos realiza como tal las transformaciones necesarias a las entradas, normalmente se usa después del método anterior\n",
        "</ul>\n",
        "</p>\n",
        "\n",
        "<p>\n",
        "Los <b>estimadores</b> incluyen dos metodos esenciales\n",
        "<ul>\n",
        "<li>fit</li>\n",
        "Este método realiza las estimaciones requeridas de los parámetros del modelo.\n",
        "<li>predict</li>\n",
        "Sirve para realizar predicciones con el modelo final, \n",
        "</ul>\n",
        "</p>"
      ]
    },
    {
      "cell_type": "code",
      "metadata": {
        "id": "heUP1fZuBcfi"
      },
      "source": [
        "#transformacion de los datos para un polinomio de 3 grado\n",
        "ft_trans = preprocessing.PolynomialFeatures(degree=2)\n",
        "#modelo de regresion lineal\n",
        "modelo = linear_model.LinearRegression(fit_intercept=False)"
      ],
      "execution_count": 5,
      "outputs": []
    },
    {
      "cell_type": "code",
      "metadata": {
        "colab": {
          "base_uri": "https://localhost:8080/"
        },
        "id": "3HoPH9nSBwGx",
        "outputId": "807009a0-0e6a-4440-e1ac-cc9eea8b337b"
      },
      "source": [
        "ft_trans.fit(x)"
      ],
      "execution_count": null,
      "outputs": [
        {
          "output_type": "execute_result",
          "data": {
            "text/plain": [
              "PolynomialFeatures()"
            ]
          },
          "metadata": {},
          "execution_count": 97
        }
      ]
    },
    {
      "cell_type": "code",
      "metadata": {
        "id": "oltvtpTkCkTb"
      },
      "source": [
        "x_trans = ft_trans.transform(x)"
      ],
      "execution_count": null,
      "outputs": []
    },
    {
      "cell_type": "code",
      "metadata": {
        "id": "cO7MakzvEiPw"
      },
      "source": [
        "modelo = modelo.fit(x_trans,y)"
      ],
      "execution_count": null,
      "outputs": []
    },
    {
      "cell_type": "code",
      "metadata": {
        "id": "oF-6Smm-Fx_O"
      },
      "source": [
        "y_pred = modelo.predict( x_trans)"
      ],
      "execution_count": null,
      "outputs": []
    },
    {
      "cell_type": "code",
      "metadata": {
        "colab": {
          "base_uri": "https://localhost:8080/",
          "height": 302
        },
        "id": "Cry-dXluKNIC",
        "outputId": "896d2a90-e825-4646-fbd3-d67e0d963434"
      },
      "source": [
        "plt.plot(x,y, x, y_pred)"
      ],
      "execution_count": null,
      "outputs": [
        {
          "output_type": "execute_result",
          "data": {
            "text/plain": [
              "[<matplotlib.lines.Line2D at 0x7fb39b4e2f10>,\n",
              " <matplotlib.lines.Line2D at 0x7fb39b4ee190>]"
            ]
          },
          "metadata": {},
          "execution_count": 101
        },
        {
          "output_type": "display_data",
          "data": {
            "image/png": "[encoded data removed]",
            "text/plain": [
              "<Figure size 432x288 with 1 Axes>"
            ]
          },
          "metadata": {
            "needs_background": "light"
          }
        }
      ]
    },
    {
      "cell_type": "markdown",
      "metadata": {
        "id": "jUJTXita9-s6"
      },
      "source": [
        "<h3>Pipelines</h3>\n",
        "<p>Útiles cuando se requieren aplicar multiples transformaciones y estimaciones a un modelos. Al usar pipelines se usan los métodos similares a aquellos de los estimadores </p>"
      ]
    },
    {
      "cell_type": "code",
      "metadata": {
        "id": "zojZ6i5LMP3K"
      },
      "source": [
        "pipe = pipeline.Pipeline([(\"Transformer\",ft_trans), \n",
        "                          (\"modelo\", modelo)])"
      ],
      "execution_count": 6,
      "outputs": []
    },
    {
      "cell_type": "code",
      "metadata": {
        "colab": {
          "base_uri": "https://localhost:8080/"
        },
        "id": "x9sDVPCXO7_9",
        "outputId": "237b1a56-692d-46a0-c0b5-37ab764210da"
      },
      "source": [
        "#el método named_steps contiene en un diccionario con los transformers y estimators en el pipeline\n",
        "#estos se pueden extraer con el nombre que le dimos\n",
        "pipe.named_steps[\"Transformer\"]"
      ],
      "execution_count": 10,
      "outputs": [
        {
          "output_type": "execute_result",
          "data": {
            "text/plain": [
              "PolynomialFeatures()"
            ]
          },
          "metadata": {},
          "execution_count": 10
        }
      ]
    },
    {
      "cell_type": "code",
      "metadata": {
        "id": "xVXEERedMiUF"
      },
      "source": [
        "pipe = pipe.fit(x,y)"
      ],
      "execution_count": null,
      "outputs": []
    },
    {
      "cell_type": "code",
      "metadata": {
        "id": "0Gfl0zJgMrHV"
      },
      "source": [
        "y_pred = pipe.predict(x)"
      ],
      "execution_count": null,
      "outputs": []
    },
    {
      "cell_type": "code",
      "metadata": {
        "colab": {
          "base_uri": "https://localhost:8080/"
        },
        "id": "6eZo9doiNPEF",
        "outputId": "e4edb05b-7cfe-47f8-9a25-d9fdbda68000"
      },
      "source": [
        "modelo.coef_"
      ],
      "execution_count": null,
      "outputs": [
        {
          "output_type": "execute_result",
          "data": {
            "text/plain": [
              "array([-1.,  4., -5.])"
            ]
          },
          "metadata": {},
          "execution_count": 111
        }
      ]
    }
  ]
}