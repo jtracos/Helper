{
  "nbformat": 4,
  "nbformat_minor": 0,
  "metadata": {
    "colab": {
      "name": "LinearRegression.ipynb",
      "provenance": [],
      "collapsed_sections": [],
      "authorship_tag": "ABX9TyPgac3+9KhdOVTNU6hliRhZ",
      "include_colab_link": true
    },
    "kernelspec": {
      "name": "python3",
      "display_name": "Python 3"
    },
    "language_info": {
      "name": "python"
    }
  },
  "cells": [
    {
      "cell_type": "markdown",
      "metadata": {
        "id": "view-in-github",
        "colab_type": "text"
      },
      "source": [
        "<a href=\"https://colab.research.google.com/github/jtracos/Helper/blob/main/LinearRegression.ipynb\" target=\"_parent\"><img src=\"https://colab.research.google.com/assets/colab-badge.svg\" alt=\"Open In Colab\"/></a>"
      ]
    },
    {
      "cell_type": "code",
      "metadata": {
        "id": "tu1FYKbHBCYv"
      },
      "source": [
        "import numpy as np\n",
        "import pandas as pd\n",
        "import matplotlib.pyplot as plt\n",
        "from sklearn import linear_model, preprocessing, pipeline"
      ],
      "execution_count": 11,
      "outputs": []
    },
    {
      "cell_type": "code",
      "metadata": {
        "colab": {
          "base_uri": "https://localhost:8080/",
          "height": 265
        },
        "id": "v5HTN9iABOw-",
        "outputId": "148239d8-3f7d-4d70-e149-aec77090cbf5"
      },
      "source": [
        "x = np.linspace(-5,7, 30)# shape(30,)=>shape(30,1)\n",
        "x= x.reshape(x.shape[0],1)\n",
        "\n",
        "#squeeze regresa a una dimension cualquier matriz\n",
        "y = -1 + 4*x.squeeze() - 5*x.squeeze()**2 + np.random.random(x.shape[0])\n",
        "_ = plt.plot(x,y)"
      ],
      "execution_count": 112,
      "outputs": [
        {
          "output_type": "display_data",
          "data": {
            "image/png": "[encoded data removed]",
            "text/plain": [
              "<Figure size 432x288 with 1 Axes>"
            ]
          },
          "metadata": {
            "needs_background": "light"
          }
        }
      ]
    },
    {
      "cell_type": "code",
      "metadata": {
        "id": "heUP1fZuBcfi"
      },
      "source": [
        "#transformacion de los datos para un polinomio de 3 grado\n",
        "ft_trans = preprocessing.PolynomialFeatures(degree=2)\n",
        "#modelo de regresion lineal\n",
        "modelo = linear_model.LinearRegression(fit_intercept=False)"
      ],
      "execution_count": 113,
      "outputs": []
    },
    {
      "cell_type": "code",
      "metadata": {
        "colab": {
          "base_uri": "https://localhost:8080/"
        },
        "id": "3HoPH9nSBwGx",
        "outputId": "807009a0-0e6a-4440-e1ac-cc9eea8b337b"
      },
      "source": [
        "ft_trans.fit(x)"
      ],
      "execution_count": 97,
      "outputs": [
        {
          "output_type": "execute_result",
          "data": {
            "text/plain": [
              "PolynomialFeatures()"
            ]
          },
          "metadata": {},
          "execution_count": 97
        }
      ]
    },
    {
      "cell_type": "code",
      "metadata": {
        "id": "oltvtpTkCkTb"
      },
      "source": [
        "x_trans = ft_trans.transform(x)"
      ],
      "execution_count": 98,
      "outputs": []
    },
    {
      "cell_type": "code",
      "metadata": {
        "id": "cO7MakzvEiPw"
      },
      "source": [
        "modelo = modelo.fit(x_trans,y)"
      ],
      "execution_count": 99,
      "outputs": []
    },
    {
      "cell_type": "code",
      "metadata": {
        "id": "oF-6Smm-Fx_O"
      },
      "source": [
        "y_pred = modelo.predict( x_trans)"
      ],
      "execution_count": 100,
      "outputs": []
    },
    {
      "cell_type": "code",
      "metadata": {
        "colab": {
          "base_uri": "https://localhost:8080/",
          "height": 302
        },
        "id": "Cry-dXluKNIC",
        "outputId": "896d2a90-e825-4646-fbd3-d67e0d963434"
      },
      "source": [
        "plt.plot(x,y, x, y_pred)"
      ],
      "execution_count": 101,
      "outputs": [
        {
          "output_type": "execute_result",
          "data": {
            "text/plain": [
              "[<matplotlib.lines.Line2D at 0x7fb39b4e2f10>,\n",
              " <matplotlib.lines.Line2D at 0x7fb39b4ee190>]"
            ]
          },
          "metadata": {},
          "execution_count": 101
        },
        {
          "output_type": "display_data",
          "data": {
            "image/png": "[encoded data removed]",
            "text/plain": [
              "<Figure size 432x288 with 1 Axes>"
            ]
          },
          "metadata": {
            "needs_background": "light"
          }
        }
      ]
    },
    {
      "cell_type": "code",
      "metadata": {
        "id": "zojZ6i5LMP3K"
      },
      "source": [
        "pipe = pipeline.Pipeline([(\"Transformer\",ft_trans), \n",
        "                          (\"modelo\", modelo)])"
      ],
      "execution_count": 114,
      "outputs": []
    },
    {
      "cell_type": "code",
      "metadata": {
        "colab": {
          "base_uri": "https://localhost:8080/"
        },
        "id": "x9sDVPCXO7_9",
        "outputId": "0e311c6b-0e97-48f7-82a8-4da6b282130c"
      },
      "source": [
        "pipe.named_steps"
      ],
      "execution_count": 118,
      "outputs": [
        {
          "output_type": "execute_result",
          "data": {
            "text/plain": [
              "{'Transformer': PolynomialFeatures(),\n",
              " 'modelo': LinearRegression(fit_intercept=False)}"
            ]
          },
          "metadata": {},
          "execution_count": 118
        }
      ]
    },
    {
      "cell_type": "code",
      "metadata": {
        "id": "xVXEERedMiUF"
      },
      "source": [
        "pipe = pipe.fit(x,y)"
      ],
      "execution_count": 115,
      "outputs": []
    },
    {
      "cell_type": "code",
      "metadata": {
        "id": "0Gfl0zJgMrHV"
      },
      "source": [
        "y_pred = pipe.predict(x)"
      ],
      "execution_count": 110,
      "outputs": []
    },
    {
      "cell_type": "code",
      "metadata": {
        "colab": {
          "base_uri": "https://localhost:8080/"
        },
        "id": "6eZo9doiNPEF",
        "outputId": "e4edb05b-7cfe-47f8-9a25-d9fdbda68000"
      },
      "source": [
        "modelo.coef_"
      ],
      "execution_count": 111,
      "outputs": [
        {
          "output_type": "execute_result",
          "data": {
            "text/plain": [
              "array([-1.,  4., -5.])"
            ]
          },
          "metadata": {},
          "execution_count": 111
        }
      ]
    },
    {
      "cell_type": "code",
      "metadata": {
        "id": "WhrYFLc-NcsR"
      },
      "source": [
        ""
      ],
      "execution_count": null,
      "outputs": []
    }
  ]
}