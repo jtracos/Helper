{
  "nbformat": 4,
  "nbformat_minor": 0,
  "metadata": {
    "colab": {
      "name": "LinearRegression.ipynb",
      "provenance": [],
      "collapsed_sections": [],
      "authorship_tag": "ABX9TyOR9sGMhSFBJmuIL2FNtH6x",
      "include_colab_link": true
    },
    "kernelspec": {
      "name": "python3",
      "display_name": "Python 3"
    },
    "language_info": {
      "name": "python"
    }
  },
  "cells": [
    {
      "cell_type": "markdown",
      "metadata": {
        "id": "view-in-github",
        "colab_type": "text"
      },
      "source": [
        "<a href=\"https://colab.research.google.com/github/jtracos/Helper/blob/main/LinearRegression.ipynb\" target=\"_parent\"><img src=\"https://colab.research.google.com/assets/colab-badge.svg\" alt=\"Open In Colab\"/></a>"
      ]
    },
    {
      "cell_type": "markdown",
      "metadata": {
        "id": "Fal-sTCn4hVg"
      },
      "source": [
        "<h2>Modelo de regresión lineal</h2>"
      ]
    },
    {
      "cell_type": "code",
      "metadata": {
        "id": "tu1FYKbHBCYv"
      },
      "source": [
        "#librerias necesarias para este caso\n",
        "import numpy as np\n",
        "import pandas as pd\n",
        "import matplotlib.pyplot as plt\n",
        "from sklearn import linear_model, preprocessing, pipeline"
      ],
      "execution_count": 2,
      "outputs": []
    },
    {
      "cell_type": "markdown",
      "metadata": {
        "id": "ZgyLdgdv4oPp"
      },
      "source": [
        "<p>\n",
        "  <span>Se puede implementar usando <b>scikit-learn</b> que, a pesar de su complejidad, es muy flexible y puede resultar útil al  desarrollar modelos estadísticos más complejos.</span>\n",
        "</p>\n",
        "<p>La documentación de este módulo está muy bien organizada y se encuentra <a href=\"https://scikit-learn.org/stable/index.html\"> aquí</a></p>\n",
        "<p>A continuación se muestra un ejemplo simple para un modelo de regresión polinomial</p>"
      ]
    },
    {
      "cell_type": "markdown",
      "metadata": {
        "id": "b1qm-SHh5pAh"
      },
      "source": [
        "<p>Generamos los datos para realizar las estimaciones del modelo.</p>\n",
        "<p>Usaremos un modelo polinomial de segundo orden</p>"
      ]
    },
    {
      "cell_type": "code",
      "metadata": {
        "colab": {
          "base_uri": "https://localhost:8080/",
          "height": 265
        },
        "id": "v5HTN9iABOw-",
        "outputId": "0a33e3b0-f1c7-4283-e123-144de85b62de"
      },
      "source": [
        "x = np.linspace(-5,7, 30)# shape(30,)=>shape(30,1)\n",
        "x= x.reshape(x.shape[0],1) #el método reshape permite alterar las dimensiones de cualquier arreglo de numpy, si es posible hacerlo\n",
        "\n",
        "#el metodo squeeze regresa a una dimension cualquier matriz\n",
        "y = -1 + 4*x.squeeze() - 5*x.squeeze()**2 + np.random.random(x.shape[0])\n",
        "_ = plt.plot(x,y)"
      ],
      "execution_count": 8,
      "outputs": [
        {
          "output_type": "display_data",
          "data": {
            "image/png": "[encoded data removed]",
            "text/plain": [
              "<Figure size 432x288 with 1 Axes>"
            ]
          },
          "metadata": {
            "needs_background": "light"
          }
        }
      ]
    },
    {
      "cell_type": "markdown",
      "metadata": {
        "id": "dJ4TJpy96aLi"
      },
      "source": [
        "<p><i>sklearn</i> divide sus métodos en dos partes \n",
        "<ul>\n",
        "<li>transformers</li>\n",
        "y\n",
        "<li>estimadores</li>\n",
        "</ul>\n",
        "</p>\n",
        "<p>Los <b>transformadores</b> son métodos que permiten <i>transformar</i> los datos de una manera util. Estos tienen dos métodos esenciales\n",
        "<ul>\n",
        "<li>fit</li>\n",
        "Este método permite realizar la estimacion de los párametros necesarios para las transformación de las entradas\n",
        "<li>transform</li>\n",
        "Este métodos realiza como tal las transformaciones necesarias a las entradas, normalmente se usa después del método anterior\n",
        "</ul>\n",
        "</p>\n",
        "\n",
        "<p>\n",
        "Los <b>estimadores</b> incluyen dos metodos esenciales\n",
        "<ul>\n",
        "<li>fit</li>\n",
        "Este método realiza las estimaciones requeridas de los parámetros del modelo.\n",
        "<li>predict</li>\n",
        "Sirve para realizar predicciones con el modelo final, \n",
        "</ul>\n",
        "</p>"
      ]
    },
    {
      "cell_type": "code",
      "metadata": {
        "id": "heUP1fZuBcfi"
      },
      "source": [
        "#transformacion de los datos para un polinomio de 3 grado\n",
        "ft_trans = preprocessing.PolynomialFeatures(degree=2)\n",
        "#modelo de regresion lineal\n",
        "modelo = linear_model.LinearRegression(fit_intercept=False)"
      ],
      "execution_count": 4,
      "outputs": []
    },
    {
      "cell_type": "code",
      "metadata": {
        "colab": {
          "base_uri": "https://localhost:8080/"
        },
        "id": "3HoPH9nSBwGx",
        "outputId": "fd1228d5-ea99-4199-e4bc-b6d2a191d459"
      },
      "source": [
        "ft_trans.fit(x)"
      ],
      "execution_count": 5,
      "outputs": [
        {
          "output_type": "execute_result",
          "data": {
            "text/plain": [
              "PolynomialFeatures()"
            ]
          },
          "metadata": {},
          "execution_count": 5
        }
      ]
    },
    {
      "cell_type": "code",
      "metadata": {
        "id": "oltvtpTkCkTb"
      },
      "source": [
        "x_trans = ft_trans.transform(x)"
      ],
      "execution_count": 6,
      "outputs": []
    },
    {
      "cell_type": "code",
      "metadata": {
        "id": "cO7MakzvEiPw"
      },
      "source": [
        "modelo = modelo.fit(x_trans,y)"
      ],
      "execution_count": null,
      "outputs": []
    },
    {
      "cell_type": "code",
      "metadata": {
        "id": "oF-6Smm-Fx_O"
      },
      "source": [
        "y_pred = modelo.predict( x_trans)"
      ],
      "execution_count": null,
      "outputs": []
    },
    {
      "cell_type": "code",
      "metadata": {
        "colab": {
          "base_uri": "https://localhost:8080/",
          "height": 302
        },
        "id": "Cry-dXluKNIC",
        "outputId": "896d2a90-e825-4646-fbd3-d67e0d963434"
      },
      "source": [
        "plt.plot(x,y, x, y_pred)"
      ],
      "execution_count": null,
      "outputs": [
        {
          "output_type": "execute_result",
          "data": {
            "text/plain": [
              "[<matplotlib.lines.Line2D at 0x7fb39b4e2f10>,\n",
              " <matplotlib.lines.Line2D at 0x7fb39b4ee190>]"
            ]
          },
          "metadata": {},
          "execution_count": 101
        },
        {
          "output_type": "display_data",
          "data": {
            "image/png": "[encoded data removed]",
            "text/plain": [
              "<Figure size 432x288 with 1 Axes>"
            ]
          },
          "metadata": {
            "needs_background": "light"
          }
        }
      ]
    },
    {
      "cell_type": "markdown",
      "metadata": {
        "id": "jUJTXita9-s6"
      },
      "source": [
        "<h3>Pipelines</h3>\n",
        "<p>Útiles cuando se requieren aplicar multiples transformaciones y estimaciones a un modelos. Al usar pipelines se usan los métodos similares a aquellos de los estimadores </p>"
      ]
    },
    {
      "cell_type": "code",
      "metadata": {
        "id": "zojZ6i5LMP3K"
      },
      "source": [
        "pipe = pipeline.Pipeline([(\"Transformer\",ft_trans), \n",
        "                          (\"modelo\", modelo)])"
      ],
      "execution_count": null,
      "outputs": []
    },
    {
      "cell_type": "code",
      "metadata": {
        "colab": {
          "base_uri": "https://localhost:8080/"
        },
        "id": "x9sDVPCXO7_9",
        "outputId": "237b1a56-692d-46a0-c0b5-37ab764210da"
      },
      "source": [
        "#el método named_steps contiene en un diccionario con los transformers y estimators en el pipeline\n",
        "#estos se pueden extraer con el nombre que le dimos\n",
        "pipe.named_steps[\"Transformer\"]"
      ],
      "execution_count": null,
      "outputs": [
        {
          "output_type": "execute_result",
          "data": {
            "text/plain": [
              "PolynomialFeatures()"
            ]
          },
          "metadata": {},
          "execution_count": 10
        }
      ]
    },
    {
      "cell_type": "code",
      "metadata": {
        "id": "xVXEERedMiUF"
      },
      "source": [
        "pipe = pipe.fit(x,y)"
      ],
      "execution_count": null,
      "outputs": []
    },
    {
      "cell_type": "code",
      "metadata": {
        "id": "0Gfl0zJgMrHV"
      },
      "source": [
        "y_pred = pipe.predict(x)"
      ],
      "execution_count": null,
      "outputs": []
    },
    {
      "cell_type": "code",
      "metadata": {
        "colab": {
          "base_uri": "https://localhost:8080/"
        },
        "id": "6eZo9doiNPEF",
        "outputId": "e4edb05b-7cfe-47f8-9a25-d9fdbda68000"
      },
      "source": [
        "modelo.coef_"
      ],
      "execution_count": null,
      "outputs": [
        {
          "output_type": "execute_result",
          "data": {
            "text/plain": [
              "array([-1.,  4., -5.])"
            ]
          },
          "metadata": {},
          "execution_count": 111
        }
      ]
    },
    {
      "cell_type": "markdown",
      "metadata": {
        "id": "l0LN4agEXFd_"
      },
      "source": [
        "<h2>statsmodels</h2>\n",
        "<h3>Modelos estadísticos</h3>\n",
        "<p><b>statsmodels</b> permite general modelos de forma rápida incluyendo los estadísticos vitales para un análisis posterior del modelo.</p>\n",
        "<h3>Regresión polinomial</h3>\n",
        "<p>Para realizar una regresión polinomial puede efectuarse la transformación de la variable predictora, justo como en el caso anterior y realizar el modelado con statmodels. A continuación se muestra un breve ejemplo</p>"
      ]
    },
    {
      "cell_type": "code",
      "metadata": {
        "id": "RQoIC3kIXhVj",
        "outputId": "878d721a-72fd-4847-bf9c-c6e4dc9c70e7",
        "colab": {
          "base_uri": "https://localhost:8080/"
        }
      },
      "source": [
        "import statsmodels.api as sm"
      ],
      "execution_count": 7,
      "outputs": [
        {
          "output_type": "stream",
          "name": "stderr",
          "text": [
            "/usr/local/lib/python3.7/dist-packages/statsmodels/tools/_testing.py:19: FutureWarning: pandas.util.testing is deprecated. Use the functions in the public API at pandas.testing instead.\n",
            "  import pandas.util.testing as tm\n"
          ]
        }
      ]
    },
    {
      "cell_type": "markdown",
      "metadata": {
        "id": "CmjaArmEYTM4"
      },
      "source": [
        "<p>Realizamos la transformación de los datos para un polinomio de grado 2 usando los mismos datos</p>"
      ]
    },
    {
      "cell_type": "code",
      "metadata": {
        "id": "l7CxPlz3YLOP",
        "outputId": "ceba3b42-e098-41ff-9e25-58c993a03a3e",
        "colab": {
          "base_uri": "https://localhost:8080/"
        }
      },
      "source": [
        "#transformacion de los datos para un polinomio de 2 grado\n",
        "ft_trans = preprocessing.PolynomialFeatures(degree=2)\n",
        "x_trans = ft_trans.fit_transform(x)\n",
        "\n",
        "x_trans.shape"
      ],
      "execution_count": 15,
      "outputs": [
        {
          "output_type": "execute_result",
          "data": {
            "text/plain": [
              "(30, 3)"
            ]
          },
          "metadata": {},
          "execution_count": 15
        }
      ]
    },
    {
      "cell_type": "markdown",
      "metadata": {
        "id": "Kxx4a9JEZxX3"
      },
      "source": [
        "<span>En este caso, el nucleo del trabajo es la transformación de la variable predictora para el modelo polinomial</span>"
      ]
    },
    {
      "cell_type": "code",
      "metadata": {
        "id": "h73sA7R4YraI"
      },
      "source": [
        "#estimacion del modelo polinomial\n",
        "modelo = sm.OLS(y,x_trans).fit()"
      ],
      "execution_count": 10,
      "outputs": []
    },
    {
      "cell_type": "code",
      "metadata": {
        "id": "Xatx-rGlY2-P"
      },
      "source": [
        "y_pred = modelo.predict(x_trans)"
      ],
      "execution_count": 11,
      "outputs": []
    },
    {
      "cell_type": "code",
      "metadata": {
        "id": "NiG-CVV0Y_Q5",
        "outputId": "8553195f-8d36-445f-b7ab-ae4d97e07639",
        "colab": {
          "base_uri": "https://localhost:8080/",
          "height": 265
        }
      },
      "source": [
        "plt.plot(x,y)\n",
        "_ = plt.scatter(x, y_pred, c= \"red\")"
      ],
      "execution_count": 13,
      "outputs": [
        {
          "output_type": "display_data",
          "data": {
            "image/png": "[encoded data removed]",
            "text/plain": [
              "<Figure size 432x288 with 1 Axes>"
            ]
          },
          "metadata": {
            "needs_background": "light"
          }
        }
      ]
    },
    {
      "cell_type": "markdown",
      "metadata": {
        "id": "Y-ZB86XMZdY-"
      },
      "source": [
        "<span>Resumen estadístico del modelo</span>\n",
        "<p>\n",
        "<ul>\n",
        "<li><b>const</b></li>\n",
        "La ordenada al origen\n",
        "<li><b>x1</b></li>\n",
        "parámetro de la parte lineal del modelo\n",
        "<li><b>x2</b></li>\n",
        "parámetro de la parte cuadrática del modelo\n",
        "</ul>\n",
        "</p>"
      ]
    },
    {
      "cell_type": "code",
      "metadata": {
        "id": "Q8zw5dZ6ZHKl",
        "outputId": "2636a4c3-116c-4bda-fa1f-059dda66ea47",
        "colab": {
          "base_uri": "https://localhost:8080/"
        }
      },
      "source": [
        "print(modelo.summary())\n"
      ],
      "execution_count": 17,
      "outputs": [
        {
          "output_type": "stream",
          "name": "stdout",
          "text": [
            "                            OLS Regression Results                            \n",
            "==============================================================================\n",
            "Dep. Variable:                      y   R-squared:                       1.000\n",
            "Model:                            OLS   Adj. R-squared:                  1.000\n",
            "Method:                 Least Squares   F-statistic:                 7.421e+05\n",
            "Date:                Mon, 22 Nov 2021   Prob (F-statistic):           1.02e-64\n",
            "Time:                        16:12:28   Log-Likelihood:                -2.2432\n",
            "No. Observations:                  30   AIC:                             10.49\n",
            "Df Residuals:                      27   BIC:                             14.69\n",
            "Df Model:                           2                                         \n",
            "Covariance Type:            nonrobust                                         \n",
            "==============================================================================\n",
            "                 coef    std err          t      P>|t|      [0.025      0.975]\n",
            "------------------------------------------------------------------------------\n",
            "const         -0.5616      0.073     -7.643      0.000      -0.712      -0.411\n",
            "x1             3.9732      0.017    240.429      0.000       3.939       4.007\n",
            "x2            -4.9951      0.004  -1140.124      0.000      -5.004      -4.986\n",
            "==============================================================================\n",
            "Omnibus:                        3.852   Durbin-Watson:                   2.060\n",
            "Prob(Omnibus):                  0.146   Jarque-Bera (JB):                1.578\n",
            "Skew:                          -0.091   Prob(JB):                        0.454\n",
            "Kurtosis:                       1.891   Cond. No.                         28.5\n",
            "==============================================================================\n",
            "\n",
            "Warnings:\n",
            "[1] Standard Errors assume that the covariance matrix of the errors is correctly specified.\n"
          ]
        }
      ]
    },
    {
      "cell_type": "code",
      "metadata": {
        "id": "QloGEbh2ZPmm"
      },
      "source": [
        ""
      ],
      "execution_count": null,
      "outputs": []
    }
  ]
}