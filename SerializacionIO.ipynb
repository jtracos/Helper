{
 "cells": [
  {
   "cell_type": "markdown",
   "id": "7edaf5d2-ecdb-4936-be9e-80bdabbc465b",
   "metadata": {},
   "source": [
    "<h><b>¿Que es json?</b></h>\n",
    "<br>\n",
    "<span>es un formato ligero de intercambio de datos. Leerlo y escribirlo es simple para humanos, mientras que para las máquinas es simple interpretarlo y generarlo. Está basado en un subconjunto del Lenguaje de Programación JavaScript.</span><br>\n",
    "<span><b>JSON es un formato de texto que es completamente independiente del lenguaje.</b></span>\n",
    "\n",
    "<span>JSON está constituído por dos estructuras:</span>\n",
    "<ul>\n",
    "    <li>Una colección de pares de nombre/valor. En varios lenguajes esto es conocido como un objeto, registro, estructura, diccionario, tabla hash, lista de claves o un arreglo asociativo.</li>\n",
    "    <li>Una lista ordenada de valores. En la mayoría de los lenguajes, esto se implementa como arreglos, vectores, listas o sequencias.</li>\n",
    "</ul>\n",
    "<span>Un objeto es un conjunto desordenado de pares nombre/valor. Un objeto comienza con { (<i>llave de apertura</i>) y termine con } (<i>llave de cierre</i>). Cada nombre es seguido por :dos puntos y los pares nombre/valor están separados por ,coma.</span>"
   ]
  },
  {
   "cell_type": "markdown",
   "id": "ff1c07c5-3581-44b4-82f4-ba5d78aa9837",
   "metadata": {},
   "source": [
    "<h><b>JSON en python</b></h>\n",
    "<div>Para fines practicos, JSON es mayormente equivalente a un diccionario en python</div>"
   ]
  },
  {
   "cell_type": "markdown",
   "id": "883201cf-6d25-449d-ad64-ae5fb51a96c2",
   "metadata": {},
   "source": [
    "<h3>Librerias</h3>\n",
    "<div>Para su manipulación se utiliza la libreria <b>json</b> que incluye los metodos <b>load</b> u <b>dumps</b>, los cuale permiten escribir y leer(<i>serializar</i>) documentos de texto plano en formato json</div>"
   ]
  },
  {
   "cell_type": "markdown",
   "id": "1c14aef2-3e23-49e9-bd93-015d8c9dfec7",
   "metadata": {},
   "source": [
    "<h2>Escritura</h2>"
   ]
  },
  {
   "cell_type": "code",
   "execution_count": null,
   "id": "dac42fec-11ae-461f-a8e7-3650bc43e2f4",
   "metadata": {},
   "outputs": [],
   "source": [
    "import json"
   ]
  },
  {
   "cell_type": "markdown",
   "id": "df0d73b9-61b3-4057-b450-7f6fae70d556",
   "metadata": {},
   "source": [
    "<span>Creamos un diccionario con algunas entradas para  escribir</span>"
   ]
  },
  {
   "cell_type": "code",
   "execution_count": null,
   "id": "76d036ba-85f6-46b5-bd19-45c87cf92231",
   "metadata": {},
   "outputs": [],
   "source": [
    "dic = {\n",
    "    \"distancias cortas\":[23,24,21],\n",
    "    \"distancias largas\": [100,34,25]\n",
    "}"
   ]
  },
  {
   "cell_type": "markdown",
   "id": "c0217c7f-3711-4f2f-b373-1e567bb44a66",
   "metadata": {},
   "source": [
    "<h3>Funciones <i>dump</i> y <i>dumps</i></h3>\n",
    "<div>Estas funciones permiten <i>escribir</i> diccionarios a cadena de caracteres. Su principal diferencia radica en como serializan los datos</div>\n",
    "<b>json.dump</b> recibe dos parámetros:\n",
    "    <ol>\n",
    "        <li>obj: Diccionario a serializar</li>\n",
    "         <li>fp: Conexión al archivo donde se escribirá el diccionario</li>\n",
    "    </ol>\n",
    "</li>\n",
    "<div>Esta función escribe directamente el contenido como cadena de caracteres en formato JSON a un archivo de texto</div>\n",
    "<div>Se muestra a continuación un ejemplo simple</div>"
   ]
  },
  {
   "cell_type": "code",
   "execution_count": null,
   "id": "2b6add16-e34f-4557-835f-35e43747f1e2",
   "metadata": {},
   "outputs": [],
   "source": [
    "\n",
    "with open(\"primer_json.json\", mode=\"w\") as f: #gestor de contexto(with): permite abrir una conexion y cerrarla\n",
    "    json.dump(dic,f)                          #automaticamente al terminar la ejecución del bloque"
   ]
  },
  {
   "cell_type": "markdown",
   "id": "ecbda6cf-9004-4800-8f55-d8d6f01d0934",
   "metadata": {},
   "source": [
    "<div>-------------------------------------------------------------------------------------</div>\n",
    "<li><b>json.dumps</b> recibe un parámetro:\n",
    "    <ol>\n",
    "        <li>obj: Diccionario a serializar</li>\n",
    "    </ol>\n",
    "</li>\n",
    "<div>Esta función regresa el contenido como cadena de caracteres en una variable de memoria, que posteriormente puede usarse para otros fines</div>\n",
    "<div>Se muestra a continuación un ejemplo simple</div>"
   ]
  },
  {
   "cell_type": "code",
   "execution_count": null,
   "id": "e33e6516-7cf4-43f3-b0b3-926cccd51322",
   "metadata": {},
   "outputs": [],
   "source": [
    "#agregamos algunos campos al diccionario anterior\n",
    "from numpy import array\n",
    "\n",
    "dic[\"Valores negativos\"] = [-1,-4,-20,-40] #nuevo campo para el diccionario\n",
    "dic"
   ]
  },
  {
   "cell_type": "code",
   "execution_count": null,
   "id": "40be8cd0-863a-49d2-92a7-1707b76360dd",
   "metadata": {},
   "outputs": [],
   "source": [
    "string_dic = json.dumps(dic)\n",
    "print(string_dic)"
   ]
  },
  {
   "cell_type": "markdown",
   "id": "e8e3b0e4-b6d8-4b1b-8115-44f1ee650305",
   "metadata": {},
   "source": [
    "<h2>Lectura</h2>\n",
    "<div>Al igual que la escritura, se tienen dos funciones para convertir a un objeto de python </i>documentos</i> JSON<br> A continuación se describen brevemente</div>"
   ]
  },
  {
   "cell_type": "markdown",
   "id": "4fddc94c-e2b7-4e92-933f-e437fb3f045a",
   "metadata": {},
   "source": [
    "<h3>Funciones <i>load</i> y <i>loads</i></h3>\n",
    "<div>-------------------------------------------------------------------------------------</div>\n",
    "<li><b>json.loads</b> recibe un parámetro:\n",
    "    <ol>\n",
    "        <li>s: Cadena de caracteres(string) que contiene el JSON</li>\n",
    "    </ol>\n",
    "</li>\n",
    "<div>Esta función regresa el contenido de una cadena de caracteres a un objeto con estructura similar al contenido en la cadena de entrada</div>\n",
    "<div>Se muestra a continuación un ejemplo simple</div>"
   ]
  },
  {
   "cell_type": "code",
   "execution_count": null,
   "id": "d83454dd-aa8d-4741-9195-81aee039999e",
   "metadata": {},
   "outputs": [],
   "source": [
    "print(\"string_dic es de tipo %s\" % type(string_dic)) #revisión del tipo de dato de la variable\n",
    "\n",
    "json_var = json.loads(string_dic) #parsing de la cadena con el json original\n",
    "print(\"json_var es de tipo %s\" % type(json_var)) #verificacion del tipo de dato: la nueva variable es un diccionario \n"
   ]
  },
  {
   "cell_type": "markdown",
   "id": "b2131823-f1af-41e2-a19a-458619fb8c98",
   "metadata": {},
   "source": [
    "<b>json.load</b> recibe un parámetro:\n",
    "    <ol>\n",
    "         <li>fp: Conexión al archivo donde se encuentra el JSON</li>\n",
    "    </ol>\n",
    "</li>\n",
    "<div>Esta función <i>parsea</i> el contenido del archivo JSON al que apunta al objeto de python más similar al JSON original</div>\n",
    "<div>Se muestra a continuación un ejemplo simple usando el archivo generado anteriormente</div>"
   ]
  },
  {
   "cell_type": "code",
   "execution_count": null,
   "id": "ac08e9d1-0e49-464c-94b9-4c84c99248f3",
   "metadata": {},
   "outputs": [],
   "source": [
    "with open(\"primer_json.json\", mode=\"r\") as f: #conexion al archivo\n",
    "    parsed_file = json.load(f)\n",
    "print(f\"el objeto creado es de tipo {type(parsed_file)}\")"
   ]
  },
  {
   "cell_type": "markdown",
   "id": "740b7d7c-2fc0-4a71-af63-5cffd5a46f24",
   "metadata": {},
   "source": [
    "<span>Hay que tener algunas consideraciones al serializar datos en json, algunas son limitaciones propias del formato.<br>\n",
    "    Un ejemplo e información detallada sobre los tipos de datos que soporta se pueden encontrar <a href=\"https://desarrolloweb.com/home/json#track68\" >aquí.</a></span>\n",
    "<div>en un escenario de python, un objeto JSON, puede contener cualquier estructura compuesta de <i>diccionarios</i> y <i>listas</i></div>"
   ]
  },
  {
   "cell_type": "code",
   "execution_count": null,
   "id": "add498bb-b2d5-4531-bffc-5f5a7fba89b8",
   "metadata": {},
   "outputs": [],
   "source": []
  }
 ],
 "metadata": {
  "kernelspec": {
   "display_name": "Python 3",
   "language": "python",
   "name": "python3"
  },
  "language_info": {
   "codemirror_mode": {
    "name": "ipython",
    "version": 3
   },
   "file_extension": ".py",
   "mimetype": "text/x-python",
   "name": "python",
   "nbconvert_exporter": "python",
   "pygments_lexer": "ipython3",
   "version": "3.8.8"
  },
  "toc-showcode": false,
  "toc-showmarkdowntxt": false
 },
 "nbformat": 4,
 "nbformat_minor": 5
}
