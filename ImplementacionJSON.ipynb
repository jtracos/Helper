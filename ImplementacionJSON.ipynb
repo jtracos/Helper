{
  "nbformat": 4,
  "nbformat_minor": 0,
  "metadata": {
    "colab": {
      "name": "ImplementacionJSON.ipynb",
      "provenance": [],
      "collapsed_sections": [
        "MSe7Rn7exP4_",
        "iyMpQuZBEDvB"
      ],
      "authorship_tag": "ABX9TyPoNPLAifoyXv6xjK4xhyHU",
      "include_colab_link": true
    },
    "kernelspec": {
      "name": "python3",
      "display_name": "Python 3"
    },
    "language_info": {
      "name": "python"
    }
  },
  "cells": [
    {
      "cell_type": "markdown",
      "metadata": {
        "id": "view-in-github",
        "colab_type": "text"
      },
      "source": [
        "<a href=\"https://colab.research.google.com/github/jtracos/Helper/blob/main/ImplementacionJSON.ipynb\" target=\"_parent\"><img src=\"https://colab.research.google.com/assets/colab-badge.svg\" alt=\"Open In Colab\"/></a>"
      ]
    },
    {
      "cell_type": "code",
      "metadata": {
        "id": "i5WgLDlGZoEY"
      },
      "source": [
        "import numpy as np\n",
        "import pandas as pd\n",
        "import matplotlib.pyplot as plt\n",
        "import seaborn as sns\n",
        "import urllib\n",
        "import re\n",
        "import os\n",
        "import datetime\n",
        "import pytz\n",
        "import json"
      ],
      "execution_count": 1,
      "outputs": []
    },
    {
      "cell_type": "code",
      "metadata": {
        "id": "WGKHVKjGxZfH"
      },
      "source": [
        "def get_eval(df, f):\n",
        "  for d in df[\"dis\"]:\n",
        "    df[\"amp_obs\"] = f(d)"
      ],
      "execution_count": null,
      "outputs": []
    },
    {
      "cell_type": "code",
      "metadata": {
        "id": "GMVnHA6CzVPY"
      },
      "source": [
        "with open(\"dvdf.txt\", mode = \"w\") as f:\n",
        "  for valor in [2,3,4,5,6,7]:\n",
        "    f.write(str(valor) + \"\\n\")"
      ],
      "execution_count": null,
      "outputs": []
    },
    {
      "cell_type": "code",
      "metadata": {
        "id": "AiAo3f6ow724"
      },
      "source": [
        "#forma normal\n",
        "ar = []\n",
        "for d in df[\"dis\"]:\n",
        "  ar.append(f(d))\n",
        "\n",
        "#comprehension\n",
        "ar = [f(d) for d in df[\"dis\"]]\n",
        "\n",
        "def get_eval(df, f):\n",
        "  df[\"amp-obs\"] = [f(d) for d in df[\"dis\"]]"
      ],
      "execution_count": null,
      "outputs": []
    },
    {
      "cell_type": "code",
      "metadata": {
        "colab": {
          "base_uri": "https://localhost:8080/",
          "height": 143
        },
        "id": "ICaYl9vRy_n3",
        "outputId": "d3f796ad-ece5-4633-d321-105063370606"
      },
      "source": [
        "df = pd.DataFrame({\"da\":[1,2,3],\n",
        "                   \"ca\":[2,4,5],\n",
        "                   \"aa\":[3,4,5]})\n",
        "df1 = pd.DataFrame({\"da\":[3,2,1],\n",
        "                   \"ca\":[2,23,100],\n",
        "                   \"aa\":[13,44,51]})\n",
        "df1.head()"
      ],
      "execution_count": 3,
      "outputs": [
        {
          "output_type": "execute_result",
          "data": {
            "text/html": [
              "<div>\n",
              "<style scoped>\n",
              "    .dataframe tbody tr th:only-of-type {\n",
              "        vertical-align: middle;\n",
              "    }\n",
              "\n",
              "    .dataframe tbody tr th {\n",
              "        vertical-align: top;\n",
              "    }\n",
              "\n",
              "    .dataframe thead th {\n",
              "        text-align: right;\n",
              "    }\n",
              "</style>\n",
              "<table border=\"1\" class=\"dataframe\">\n",
              "  <thead>\n",
              "    <tr style=\"text-align: right;\">\n",
              "      <th></th>\n",
              "      <th>da</th>\n",
              "      <th>ca</th>\n",
              "      <th>aa</th>\n",
              "    </tr>\n",
              "  </thead>\n",
              "  <tbody>\n",
              "    <tr>\n",
              "      <th>0</th>\n",
              "      <td>3</td>\n",
              "      <td>2</td>\n",
              "      <td>13</td>\n",
              "    </tr>\n",
              "    <tr>\n",
              "      <th>1</th>\n",
              "      <td>2</td>\n",
              "      <td>23</td>\n",
              "      <td>44</td>\n",
              "    </tr>\n",
              "    <tr>\n",
              "      <th>2</th>\n",
              "      <td>1</td>\n",
              "      <td>100</td>\n",
              "      <td>51</td>\n",
              "    </tr>\n",
              "  </tbody>\n",
              "</table>\n",
              "</div>"
            ],
            "text/plain": [
              "   da   ca  aa\n",
              "0   3    2  13\n",
              "1   2   23  44\n",
              "2   1  100  51"
            ]
          },
          "metadata": {},
          "execution_count": 3
        }
      ]
    },
    {
      "cell_type": "code",
      "metadata": {
        "id": "nhDAINzM5u7q"
      },
      "source": [
        "#principios\n",
        "dic_vals = df[[\"aa\",\"ca\"]].to_dict()\n",
        "dic1_vals = df1[[\"aa\",\"ca\"]].to_dict()\n",
        "\n",
        "final = {\n",
        "    \"file1\": dic_vals,\n",
        "    \"file2\": dic1_vals\n",
        "}\n",
        "\n",
        "with open(\"variables.json\", mode = \"w\") as file:\n",
        "  json.dump(final, file)\n"
      ],
      "execution_count": 4,
      "outputs": []
    },
    {
      "cell_type": "code",
      "metadata": {
        "id": "PHLDC4-h6opV",
        "outputId": "52e94df8-6ab6-4c46-9728-ac0ac8837321",
        "colab": {
          "base_uri": "https://localhost:8080/",
          "height": 366
        }
      },
      "source": [
        "#no se pueden guardar arreglos de numpy o estructuras diferentes a las definidad\n",
        "# por default en python => genera un error de tipos(TypeError)\n",
        "#con el metodo tolist() se puede remediar\n",
        "a = np.array([2,3,4,5])\n",
        "with open(\"numpy2json.json\", mode = \"w\") as file:\n",
        "  json.dump(a, file)#a.tolist() corrige el error"
      ],
      "execution_count": 38,
      "outputs": [
        {
          "output_type": "error",
          "ename": "TypeError",
          "evalue": "ignored",
          "traceback": [
            "\u001b[0;31m---------------------------------------------------------------------------\u001b[0m",
            "\u001b[0;31mTypeError\u001b[0m                                 Traceback (most recent call last)",
            "\u001b[0;32m<ipython-input-38-e7826fd21460>\u001b[0m in \u001b[0;36m<module>\u001b[0;34m()\u001b[0m\n\u001b[1;32m      3\u001b[0m \u001b[0ma\u001b[0m \u001b[0;34m=\u001b[0m \u001b[0mnp\u001b[0m\u001b[0;34m.\u001b[0m\u001b[0marray\u001b[0m\u001b[0;34m(\u001b[0m\u001b[0;34m[\u001b[0m\u001b[0;36m2\u001b[0m\u001b[0;34m,\u001b[0m\u001b[0;36m3\u001b[0m\u001b[0;34m,\u001b[0m\u001b[0;36m4\u001b[0m\u001b[0;34m,\u001b[0m\u001b[0;36m5\u001b[0m\u001b[0;34m]\u001b[0m\u001b[0;34m)\u001b[0m\u001b[0;34m\u001b[0m\u001b[0;34m\u001b[0m\u001b[0m\n\u001b[1;32m      4\u001b[0m \u001b[0;32mwith\u001b[0m \u001b[0mopen\u001b[0m\u001b[0;34m(\u001b[0m\u001b[0;34m\"numpy2json.json\"\u001b[0m\u001b[0;34m,\u001b[0m \u001b[0mmode\u001b[0m \u001b[0;34m=\u001b[0m \u001b[0;34m\"w\"\u001b[0m\u001b[0;34m)\u001b[0m \u001b[0;32mas\u001b[0m \u001b[0mfile\u001b[0m\u001b[0;34m:\u001b[0m\u001b[0;34m\u001b[0m\u001b[0;34m\u001b[0m\u001b[0m\n\u001b[0;32m----> 5\u001b[0;31m   \u001b[0mjson\u001b[0m\u001b[0;34m.\u001b[0m\u001b[0mdump\u001b[0m\u001b[0;34m(\u001b[0m\u001b[0ma\u001b[0m\u001b[0;34m,\u001b[0m \u001b[0mfile\u001b[0m\u001b[0;34m)\u001b[0m\u001b[0;34m\u001b[0m\u001b[0;34m\u001b[0m\u001b[0m\n\u001b[0m",
            "\u001b[0;32m/usr/lib/python3.7/json/__init__.py\u001b[0m in \u001b[0;36mdump\u001b[0;34m(obj, fp, skipkeys, ensure_ascii, check_circular, allow_nan, cls, indent, separators, default, sort_keys, **kw)\u001b[0m\n\u001b[1;32m    177\u001b[0m     \u001b[0;31m# could accelerate with writelines in some versions of Python, at\u001b[0m\u001b[0;34m\u001b[0m\u001b[0;34m\u001b[0m\u001b[0;34m\u001b[0m\u001b[0m\n\u001b[1;32m    178\u001b[0m     \u001b[0;31m# a debuggability cost\u001b[0m\u001b[0;34m\u001b[0m\u001b[0;34m\u001b[0m\u001b[0;34m\u001b[0m\u001b[0m\n\u001b[0;32m--> 179\u001b[0;31m     \u001b[0;32mfor\u001b[0m \u001b[0mchunk\u001b[0m \u001b[0;32min\u001b[0m \u001b[0miterable\u001b[0m\u001b[0;34m:\u001b[0m\u001b[0;34m\u001b[0m\u001b[0;34m\u001b[0m\u001b[0m\n\u001b[0m\u001b[1;32m    180\u001b[0m         \u001b[0mfp\u001b[0m\u001b[0;34m.\u001b[0m\u001b[0mwrite\u001b[0m\u001b[0;34m(\u001b[0m\u001b[0mchunk\u001b[0m\u001b[0;34m)\u001b[0m\u001b[0;34m\u001b[0m\u001b[0;34m\u001b[0m\u001b[0m\n\u001b[1;32m    181\u001b[0m \u001b[0;34m\u001b[0m\u001b[0m\n",
            "\u001b[0;32m/usr/lib/python3.7/json/encoder.py\u001b[0m in \u001b[0;36m_iterencode\u001b[0;34m(o, _current_indent_level)\u001b[0m\n\u001b[1;32m    436\u001b[0m                     \u001b[0;32mraise\u001b[0m \u001b[0mValueError\u001b[0m\u001b[0;34m(\u001b[0m\u001b[0;34m\"Circular reference detected\"\u001b[0m\u001b[0;34m)\u001b[0m\u001b[0;34m\u001b[0m\u001b[0;34m\u001b[0m\u001b[0m\n\u001b[1;32m    437\u001b[0m                 \u001b[0mmarkers\u001b[0m\u001b[0;34m[\u001b[0m\u001b[0mmarkerid\u001b[0m\u001b[0;34m]\u001b[0m \u001b[0;34m=\u001b[0m \u001b[0mo\u001b[0m\u001b[0;34m\u001b[0m\u001b[0;34m\u001b[0m\u001b[0m\n\u001b[0;32m--> 438\u001b[0;31m             \u001b[0mo\u001b[0m \u001b[0;34m=\u001b[0m \u001b[0m_default\u001b[0m\u001b[0;34m(\u001b[0m\u001b[0mo\u001b[0m\u001b[0;34m)\u001b[0m\u001b[0;34m\u001b[0m\u001b[0;34m\u001b[0m\u001b[0m\n\u001b[0m\u001b[1;32m    439\u001b[0m             \u001b[0;32myield\u001b[0m \u001b[0;32mfrom\u001b[0m \u001b[0m_iterencode\u001b[0m\u001b[0;34m(\u001b[0m\u001b[0mo\u001b[0m\u001b[0;34m,\u001b[0m \u001b[0m_current_indent_level\u001b[0m\u001b[0;34m)\u001b[0m\u001b[0;34m\u001b[0m\u001b[0;34m\u001b[0m\u001b[0m\n\u001b[1;32m    440\u001b[0m             \u001b[0;32mif\u001b[0m \u001b[0mmarkers\u001b[0m \u001b[0;32mis\u001b[0m \u001b[0;32mnot\u001b[0m \u001b[0;32mNone\u001b[0m\u001b[0;34m:\u001b[0m\u001b[0;34m\u001b[0m\u001b[0;34m\u001b[0m\u001b[0m\n",
            "\u001b[0;32m/usr/lib/python3.7/json/encoder.py\u001b[0m in \u001b[0;36mdefault\u001b[0;34m(self, o)\u001b[0m\n\u001b[1;32m    177\u001b[0m \u001b[0;34m\u001b[0m\u001b[0m\n\u001b[1;32m    178\u001b[0m         \"\"\"\n\u001b[0;32m--> 179\u001b[0;31m         raise TypeError(f'Object of type {o.__class__.__name__} '\n\u001b[0m\u001b[1;32m    180\u001b[0m                         f'is not JSON serializable')\n\u001b[1;32m    181\u001b[0m \u001b[0;34m\u001b[0m\u001b[0m\n",
            "\u001b[0;31mTypeError\u001b[0m: Object of type ndarray is not JSON serializable"
          ]
        }
      ]
    },
    {
      "cell_type": "code",
      "metadata": {
        "id": "cmGfBlpZ1ZU7"
      },
      "source": [
        "#mejoras\n",
        "final = {}\n",
        "\n",
        "def add_valor(nombre_campo, df):\n",
        "  \"\"\"Permite agregar los valores de un dataframe a un campo nuevo\n",
        "  en un diccionario\n",
        "  _________________________________________________________________\n",
        "  Argumentos:\n",
        "  nombre_campo:string\n",
        "    nombre del campo a agregar\n",
        "  df: dataframe de pandas \n",
        "  \"\"\"\n",
        "  final[nombre_campo] = df[[\"aa\", \"ca\"]].to_dict()\n",
        "\n",
        "\n",
        "def guardar_datos(file_name, diccionario):\n",
        "  \"\"\"Guarda un diccionario en formato json en un archivo\n",
        "  con nombre definido\n",
        "  ____________________________________________________________________\n",
        "  Argumentos:\n",
        "  file_name: string\n",
        "    Nombre del archivo donde se escribirán los datos\n",
        "  diccionario: dict\n",
        "    Diccionario que contiene los datos a guardar\n",
        "    el nombre debe contener la extensión\n",
        "  \"\"\"\n",
        "  with open(file_name, mode = \"w\") as file:\n",
        "    json.dump(diccionario, file)\n",
        "\n",
        "\n",
        "def recuperar_datos(file_name, append= False,ignore_index = False):\n",
        "  \"\"\"Permite recuperar los datos desde un archivo json\n",
        "  a dataframes de pandas\n",
        "  _____________________________________________________\n",
        "  argumentos:\n",
        "  file_name: string\n",
        "    Nombre del archivo que contiene los datos\n",
        "  append: boolean\n",
        "    si True, la función devuelve una lista con los dataframes\n",
        "    leídos\n",
        "    si True, se unen los dataframes recuperados del archivo y\n",
        "    y la función regresa los datos leído en un nuevo dataframe\n",
        "  ignore_index: boolean\n",
        "    si append es True, al unir los dataframes ignora los indices originales de\n",
        "    las entradas\n",
        "  \"\"\"\n",
        "  import json\n",
        "  dic = json.load(open(file_name, mode=\"r\"))\n",
        "  dfs =[pd.DataFrame(value) for key, value in dic.items()]\n",
        "  if append:\n",
        "    df = dfs[0]\n",
        "    for d in dfs[1:]:\n",
        "      df = df.append(d, ignore_index= ignore_index)\n",
        "    return df\n",
        "  return dfs"
      ],
      "execution_count": 29,
      "outputs": []
    },
    {
      "cell_type": "code",
      "metadata": {
        "id": "oYbkanwI3lKV",
        "outputId": "f07596da-41f2-4eb3-d313-1927a8c61de3",
        "colab": {
          "base_uri": "https://localhost:8080/"
        }
      },
      "source": [
        "add_valor(\"tabla1\", df)\n",
        "add_valor(\"tabla2\", df1)\n",
        "final"
      ],
      "execution_count": 34,
      "outputs": [
        {
          "output_type": "execute_result",
          "data": {
            "text/plain": [
              "{'tabla1': {'aa': {0: 3, 1: 4, 2: 5}, 'ca': {0: 2, 1: 4, 2: 5}},\n",
              " 'tabla2': {'aa': {0: 13, 1: 44, 2: 51}, 'ca': {0: 2, 1: 23, 2: 100}}}"
            ]
          },
          "metadata": {},
          "execution_count": 34
        }
      ]
    },
    {
      "cell_type": "code",
      "metadata": {
        "id": "-RoEV9GV7he6"
      },
      "source": [
        "guardar_datos(\"variables.json\", final)"
      ],
      "execution_count": 10,
      "outputs": []
    },
    {
      "cell_type": "code",
      "metadata": {
        "id": "BlArvNMkilcj",
        "outputId": "45904862-1100-4e59-9127-d81bef0d3e47",
        "colab": {
          "base_uri": "https://localhost:8080/",
          "height": 143
        }
      },
      "source": [
        "#regresa una lista que contiene los dataframes originales\n",
        "recuperar_datos(\"variables.json\")"
      ],
      "execution_count": 36,
      "outputs": [
        {
          "output_type": "execute_result",
          "data": {
            "text/html": [
              "<div>\n",
              "<style scoped>\n",
              "    .dataframe tbody tr th:only-of-type {\n",
              "        vertical-align: middle;\n",
              "    }\n",
              "\n",
              "    .dataframe tbody tr th {\n",
              "        vertical-align: top;\n",
              "    }\n",
              "\n",
              "    .dataframe thead th {\n",
              "        text-align: right;\n",
              "    }\n",
              "</style>\n",
              "<table border=\"1\" class=\"dataframe\">\n",
              "  <thead>\n",
              "    <tr style=\"text-align: right;\">\n",
              "      <th></th>\n",
              "      <th>aa</th>\n",
              "      <th>ca</th>\n",
              "    </tr>\n",
              "  </thead>\n",
              "  <tbody>\n",
              "    <tr>\n",
              "      <th>0</th>\n",
              "      <td>3</td>\n",
              "      <td>2</td>\n",
              "    </tr>\n",
              "    <tr>\n",
              "      <th>1</th>\n",
              "      <td>4</td>\n",
              "      <td>4</td>\n",
              "    </tr>\n",
              "    <tr>\n",
              "      <th>2</th>\n",
              "      <td>5</td>\n",
              "      <td>5</td>\n",
              "    </tr>\n",
              "  </tbody>\n",
              "</table>\n",
              "</div>"
            ],
            "text/plain": [
              "   aa  ca\n",
              "0   3   2\n",
              "1   4   4\n",
              "2   5   5"
            ]
          },
          "metadata": {},
          "execution_count": 36
        }
      ]
    },
    {
      "cell_type": "code",
      "metadata": {
        "id": "FSZNnOA5eA0q",
        "outputId": "2b872eff-9fc4-4fa4-f485-7c08269dd51a",
        "colab": {
          "base_uri": "https://localhost:8080/",
          "height": 237
        }
      },
      "source": [
        "#une todos los dataframes en una sola tabla, si los nombres de las columnas\n",
        "#son iguales, solo se generan esas columnas, en caso contrario, se generan\n",
        "#tantas columnas como nombres diferentes de columnas existan los dataframes\n",
        "recuperar_datos(\"variables.json\", append=True)"
      ],
      "execution_count": 33,
      "outputs": [
        {
          "output_type": "execute_result",
          "data": {
            "text/html": [
              "<div>\n",
              "<style scoped>\n",
              "    .dataframe tbody tr th:only-of-type {\n",
              "        vertical-align: middle;\n",
              "    }\n",
              "\n",
              "    .dataframe tbody tr th {\n",
              "        vertical-align: top;\n",
              "    }\n",
              "\n",
              "    .dataframe thead th {\n",
              "        text-align: right;\n",
              "    }\n",
              "</style>\n",
              "<table border=\"1\" class=\"dataframe\">\n",
              "  <thead>\n",
              "    <tr style=\"text-align: right;\">\n",
              "      <th></th>\n",
              "      <th>aa</th>\n",
              "      <th>ca</th>\n",
              "    </tr>\n",
              "  </thead>\n",
              "  <tbody>\n",
              "    <tr>\n",
              "      <th>0</th>\n",
              "      <td>3</td>\n",
              "      <td>2</td>\n",
              "    </tr>\n",
              "    <tr>\n",
              "      <th>1</th>\n",
              "      <td>4</td>\n",
              "      <td>4</td>\n",
              "    </tr>\n",
              "    <tr>\n",
              "      <th>2</th>\n",
              "      <td>5</td>\n",
              "      <td>5</td>\n",
              "    </tr>\n",
              "    <tr>\n",
              "      <th>0</th>\n",
              "      <td>13</td>\n",
              "      <td>2</td>\n",
              "    </tr>\n",
              "    <tr>\n",
              "      <th>1</th>\n",
              "      <td>44</td>\n",
              "      <td>23</td>\n",
              "    </tr>\n",
              "    <tr>\n",
              "      <th>2</th>\n",
              "      <td>51</td>\n",
              "      <td>100</td>\n",
              "    </tr>\n",
              "  </tbody>\n",
              "</table>\n",
              "</div>"
            ],
            "text/plain": [
              "   aa   ca\n",
              "0   3    2\n",
              "1   4    4\n",
              "2   5    5\n",
              "0  13    2\n",
              "1  44   23\n",
              "2  51  100"
            ]
          },
          "metadata": {},
          "execution_count": 33
        }
      ]
    },
    {
      "cell_type": "code",
      "metadata": {
        "id": "vku-TJ7v2IX1"
      },
      "source": [
        "rewind =json.load(open(\"variables.json\"))"
      ],
      "execution_count": null,
      "outputs": []
    },
    {
      "cell_type": "code",
      "metadata": {
        "colab": {
          "base_uri": "https://localhost:8080/"
        },
        "id": "OVnrJZYR85Ym",
        "outputId": "24a0a754-7436-48c0-bae2-646b958d3b24"
      },
      "source": [
        "rewind.keys()"
      ],
      "execution_count": null,
      "outputs": [
        {
          "output_type": "execute_result",
          "data": {
            "text/plain": [
              "dict_keys(['valores1', 'valores2'])"
            ]
          },
          "metadata": {},
          "execution_count": 53
        }
      ]
    },
    {
      "cell_type": "code",
      "metadata": {
        "colab": {
          "base_uri": "https://localhost:8080/",
          "height": 143
        },
        "id": "1848-w5f9BJQ",
        "outputId": "8c183bd4-e602-406a-ba60-856473c80b02"
      },
      "source": [
        "pd.DataFrame(rewind[\"valores1\"])"
      ],
      "execution_count": null,
      "outputs": [
        {
          "output_type": "execute_result",
          "data": {
            "text/html": [
              "<div>\n",
              "<style scoped>\n",
              "    .dataframe tbody tr th:only-of-type {\n",
              "        vertical-align: middle;\n",
              "    }\n",
              "\n",
              "    .dataframe tbody tr th {\n",
              "        vertical-align: top;\n",
              "    }\n",
              "\n",
              "    .dataframe thead th {\n",
              "        text-align: right;\n",
              "    }\n",
              "</style>\n",
              "<table border=\"1\" class=\"dataframe\">\n",
              "  <thead>\n",
              "    <tr style=\"text-align: right;\">\n",
              "      <th></th>\n",
              "      <th>aa</th>\n",
              "      <th>ca</th>\n",
              "    </tr>\n",
              "  </thead>\n",
              "  <tbody>\n",
              "    <tr>\n",
              "      <th>0</th>\n",
              "      <td>3</td>\n",
              "      <td>2</td>\n",
              "    </tr>\n",
              "    <tr>\n",
              "      <th>1</th>\n",
              "      <td>4</td>\n",
              "      <td>4</td>\n",
              "    </tr>\n",
              "    <tr>\n",
              "      <th>2</th>\n",
              "      <td>5</td>\n",
              "      <td>5</td>\n",
              "    </tr>\n",
              "  </tbody>\n",
              "</table>\n",
              "</div>"
            ],
            "text/plain": [
              "   aa  ca\n",
              "0   3   2\n",
              "1   4   4\n",
              "2   5   5"
            ]
          },
          "metadata": {},
          "execution_count": 54
        }
      ]
    },
    {
      "cell_type": "markdown",
      "metadata": {
        "id": "MSe7Rn7exP4_"
      },
      "source": [
        "# Parte 2"
      ]
    },
    {
      "cell_type": "code",
      "metadata": {
        "id": "m4iLxBMD0fX_",
        "colab": {
          "base_uri": "https://localhost:8080/"
        },
        "outputId": "9ce6edd9-4f68-47bb-8c13-1bc771e16000"
      },
      "source": [
        "files = os.listdir(\"/content/\")\n",
        "print(files)\n",
        "fileidx = int(input(\"Indique el indice del archivo: \"))\n",
        "file = files[fileidx]\n",
        "print(file)"
      ],
      "execution_count": null,
      "outputs": [
        {
          "output_type": "stream",
          "name": "stdout",
          "text": [
            "['.config', 'DistAzim-corregidos.csv', 'BAHB.20090803_215819.BHZ.ascii', 'PLIB.20090803_215819.BHZ.ascii', 'sample_data']\n",
            "Indique el indice del archivo: 3\n",
            "PLIB.20090803_215819.BHZ.ascii\n"
          ]
        }
      ]
    },
    {
      "cell_type": "code",
      "metadata": {
        "id": "Xz7pqGe00e3U"
      },
      "source": [
        "f = open(file)\n",
        "tmpfile = f.read()\n",
        "f.close()\n",
        "#XX_PLIB_MHZ\n",
        "exp = re.findall(\"XX_[A-Z]{4}__[A-Z]{3}_\", tmpfile)"
      ],
      "execution_count": null,
      "outputs": []
    },
    {
      "cell_type": "code",
      "metadata": {
        "colab": {
          "base_uri": "https://localhost:8080/"
        },
        "id": "DKQRzVnb7EdO",
        "outputId": "d82fc587-00de-4f73-bab6-b9da68568352"
      },
      "source": [
        "exp"
      ],
      "execution_count": null,
      "outputs": [
        {
          "output_type": "execute_result",
          "data": {
            "text/plain": [
              "['XX_PLIB__MHZ_']"
            ]
          },
          "metadata": {},
          "execution_count": 11
        }
      ]
    },
    {
      "cell_type": "code",
      "metadata": {
        "id": "FrJ6bIjK6jpm"
      },
      "source": [
        "aux = exp[0].replace(re.findall(\"_[A-Z]{3}_\", exp[0])[0], \"_01_001_\")"
      ],
      "execution_count": null,
      "outputs": []
    },
    {
      "cell_type": "code",
      "metadata": {
        "id": "uhJvw-tj2S1v"
      },
      "source": [
        "tmpfile = tmpfile.replace(re.findall(\"XX_[A-Z]{4}__[A-Z]{3}_\", tmpfile)[0], aux)"
      ],
      "execution_count": null,
      "outputs": []
    },
    {
      "cell_type": "code",
      "metadata": {
        "id": "XTFZzGQc8GGJ"
      },
      "source": [
        "with open(file, mode = \"w\") as f:\n",
        "  f.write(tmpfile)\n"
      ],
      "execution_count": null,
      "outputs": []
    },
    {
      "cell_type": "code",
      "metadata": {
        "id": "XBfCMAHK2Slr"
      },
      "source": [
        "#Con expresiones regulares\n",
        "def select_file(path):\n",
        "  \"\"\"Funcion para seleccionar el archivo\"\"\"\n",
        "  files = os.listdir(path)\n",
        "  print(files)\n",
        "  fileidx = int(input(\"Indique el indice del archivo: \"))\n",
        "  return files[fileidx]\n",
        "\n",
        "\n",
        "\n",
        "\n",
        "def set_colname(file, regex = \"XX_[A-Z]{4}__[A-Z]{3}_\"):\n",
        "\n",
        "  with open(file) as f:\n",
        "    #Extraemos el texto\n",
        "    tmpfile = f.read()\n",
        "  #encontrar el nombre de la columna con regex\n",
        "  wrong = re.findall(regex, tmpfile)\n",
        "  #reemplazamos la parte incorrecta y ajustamos el nombre correctamente\n",
        "  nombre = wrong[0].replace(re.findall(\"_[A-Z]{3}_\", wrong[0])[0], \"_01_001_\")\n",
        "\n",
        "  return tmpfile.replace(wrong[0], nombre)\n",
        "\n",
        "\n",
        "\n",
        "#path = \"C:/User/MiAmor/Carpeta\"\n",
        "\n",
        "def apply_all(path, regex = \"XX_[A-Z]{4}__[A-Z]{3}_\"):\n",
        "  \"\"\"Funcion para aplicar las funciones\"\"\"\n",
        "  file = select_file(path)\n",
        "  abs_path = os.path.join(path, file)\n",
        "  renamed = set_colname(abs_path, regex = regex)\n",
        "  #return rename\n",
        "  with open(abs_path, mode = \"w\" ) as f:\n",
        "    f.write(renamed)"
      ],
      "execution_count": null,
      "outputs": []
    },
    {
      "cell_type": "code",
      "metadata": {
        "id": "_2Hu9kkHIRQ8",
        "colab": {
          "base_uri": "https://localhost:8080/",
          "height": 92
        },
        "outputId": "a46a7719-1d6d-439b-8a94-c9aa8954d3e3"
      },
      "source": [
        "file  = select_file(\"/content/\")\n",
        "file"
      ],
      "execution_count": null,
      "outputs": [
        {
          "name": "stdout",
          "output_type": "stream",
          "text": [
            "['.config', 'DistAzim-corregidos.csv', 'BAHB.20090803_215819.BHZ.ascii', 'PLIB.20090803_215819.BHZ.ascii', '.ipynb_checkpoints', 'sample_data']\n",
            "Indique el indice del archivo: 3\n"
          ]
        },
        {
          "output_type": "execute_result",
          "data": {
            "application/vnd.google.colaboratory.intrinsic+json": {
              "type": "string"
            },
            "text/plain": [
              "'PLIB.20090803_215819.BHZ.ascii'"
            ]
          },
          "metadata": {},
          "execution_count": 21
        }
      ]
    },
    {
      "cell_type": "code",
      "metadata": {
        "id": "Kemkr3YTyECn"
      },
      "source": [
        "set_colname(file)"
      ],
      "execution_count": null,
      "outputs": []
    },
    {
      "cell_type": "code",
      "metadata": {
        "id": "B7fPoaVk7GAY",
        "colab": {
          "base_uri": "https://localhost:8080/"
        },
        "outputId": "63c220c8-08d3-4aad-88f8-6a40131d5590"
      },
      "source": [
        "apply_all(\"/content/\")"
      ],
      "execution_count": null,
      "outputs": [
        {
          "name": "stdout",
          "output_type": "stream",
          "text": [
            "['.config', 'DistAzim-corregidos.csv', 'BAHB.20090803_215819.BHZ.ascii', 'PLIB.20090803_215819.BHZ.ascii', '.ipynb_checkpoints', 'sample_data']\n",
            "Indique el indice del archivo: 3\n"
          ]
        }
      ]
    },
    {
      "cell_type": "code",
      "metadata": {
        "id": "tCOiJP5XDdFs"
      },
      "source": [
        "#Sin expresiones regulares\n",
        "def select_file(path):\n",
        "  \"\"\"Funcion para seleccionar el archivo\"\"\"\n",
        "  files = os.listdir(path)\n",
        "  print(files)\n",
        "  fileidx = int(input(\"Indique el indice del archivo: \"))\n",
        "  return files[fileidx]\n",
        "\n",
        "\n",
        "\n",
        "\n",
        "def set_colname(file):\n",
        "\n",
        "  with open(file) as f:\n",
        "    #Extraemos el texto\n",
        "    tmpfile = f.read()\n",
        "  #encontrar el nombre de la columna con regex\n",
        "  print(tmpfile)\n",
        "  wrong = input(\"Ingrese caracteres a cambiar: \")\n",
        "  #reemplazamos la parte incorrecta y ajustamos el nombre correctamente\n",
        "  nombre = input(\"Ingrese caracteres sustitutos: \")\n",
        "\n",
        "  return tmpfile.replace(wrong, nombre)\n",
        "\n",
        "\n",
        "\n",
        "#path = \"C:/User/MiAmor/Carpeta\"\n",
        "\n",
        "def apply_all(path):\n",
        "  \"\"\"Funcion para aplicar las funciones\"\"\"\n",
        "  file = select_file(path)\n",
        "  abs_path = os.path.join(path, file)\n",
        "  renamed = set_colname(abs_path)\n",
        "  #return rename\n",
        "  with open(abs_path, mode = \"w\" ) as f:\n",
        "    f.write(renamed)"
      ],
      "execution_count": null,
      "outputs": []
    },
    {
      "cell_type": "code",
      "metadata": {
        "id": "hfzwqHelEVSy"
      },
      "source": [
        "path = \"C:/ruta/a/carpetas\"\n",
        "folders = os.listdir(path) #lista las carpetas\n",
        "for folder in folders:\n",
        "  ruta = os.listdir(os.path.join(path, folder))\n",
        "  if os.path.isdir(ruta): #si es una carpeta, revisa los archivos\n",
        "    files = os.listdir(ruta)\n",
        "    for file in files:\n",
        "      try:# este bloque evita que de error si puede abrir el archivo\n",
        "        with open(os.path.join(ruta, file)) as f:\n",
        "            print(f.readline(1))#abre el archivo y muestra la primer liena\n",
        "        ev = int(input(\"Modificar archivo?: 1= SI\"))\n",
        "        if ev == 1:\n",
        "        text = set_colname(os.path.join(ruta, file)) # si es un archivo requerido, \n",
        "        #                                              lo modifica\n",
        "        with open(os.path.join(ruta, file), mode = \"w\") as f:\n",
        "          f.write(text)# escribe el archivo\n",
        "        except:\n",
        "          pass"
      ],
      "execution_count": null,
      "outputs": []
    },
    {
      "cell_type": "code",
      "metadata": {
        "id": "kyjWJZF-7Zx4"
      },
      "source": [
        "form =\"\"\"PLIB.20090803_215552.BHZ.ascii #nombre del sismograma de componente Vertical (Z). Los cuales ya han sido generados.\n",
        "101.20\t#profundidad del evento \n",
        "57.978 67.978 #inicio de la ventana de tiempo( Guardada en una variable)\n",
        "plibz-ev871.txt  #nombre de salida del archivo\n",
        "6\n",
        "SLGB.20090803_215552.BHZ.ascii\n",
        "65.69\n",
        "58.018 64.018\n",
        "slgbz-ev871.txt\n",
        "0\"\"\""
      ],
      "execution_count": null,
      "outputs": []
    },
    {
      "cell_type": "code",
      "metadata": {
        "colab": {
          "base_uri": "https://localhost:8080/"
        },
        "id": "eFqyiOYtiqH1",
        "outputId": "b4ff0dab-cb45-4445-d63b-9baa3fb5fad0"
      },
      "source": [
        "form1 =\"\"\"{file_name}\n",
        "{profundidad} \n",
        "{ventana[0]} {ventana[1]}\n",
        "{nombre_output}\n",
        "{fin}\"\"\".format(file_name = \"PLIB.20090803_215552.BHZ.ascii\",\n",
        "                profundidad = 101.20,\n",
        "                ventana = (57.978, 67.978), \n",
        "                nombre_output = \"slgbz-ev871.txt\",\n",
        "                fin = 0)\n",
        "print(form1)"
      ],
      "execution_count": null,
      "outputs": [
        {
          "output_type": "stream",
          "name": "stdout",
          "text": [
            "PLIB.20090803_215552.BHZ.ascii\n",
            "101.2 \n",
            "57.978 67.978\n",
            "slgbz-ev871.txt\n",
            "0\n"
          ]
        }
      ]
    },
    {
      "cell_type": "markdown",
      "metadata": {
        "id": "iyMpQuZBEDvB"
      },
      "source": [
        "# Parte 3"
      ]
    },
    {
      "cell_type": "code",
      "metadata": {
        "id": "_ipsjoSzwdGF"
      },
      "source": [
        ""
      ],
      "execution_count": null,
      "outputs": []
    },
    {
      "cell_type": "code",
      "metadata": {
        "id": "VAPBqCciqLP0"
      },
      "source": [
        "#context manager\n",
        "with open(\"bahbz-ev1293.txt\") as file:\n",
        "  lines = file.readlines()\n"
      ],
      "execution_count": null,
      "outputs": []
    },
    {
      "cell_type": "code",
      "metadata": {
        "id": "WrVfJiituTx_"
      },
      "source": [
        "def get_string(file):\n",
        "  with open(file) as f:\n",
        "    lines = f.readlines()\n",
        "  \n",
        "  idx = [idx for idx, line in enumerate(lines) if \"10.0\" in line][0]#ubicar donde 10.0\n",
        "  string = \"\".join(lines[:idx+1])\n",
        "  \n",
        "  with open(file, mode = \"w\") as f:\n",
        "    f.write(string)\n",
        "    return string\n",
        "\n",
        "\n",
        "print(get_string(\"bahbz-ev1293.txt\"))"
      ],
      "execution_count": null,
      "outputs": []
    },
    {
      "cell_type": "code",
      "metadata": {
        "id": "B1_6bBSU4wKd"
      },
      "source": [
        "def test(fn, **kwargs):\n",
        "  for _ in kwargs:\n",
        "    fn(_)"
      ],
      "execution_count": null,
      "outputs": []
    },
    {
      "cell_type": "code",
      "metadata": {
        "colab": {
          "base_uri": "https://localhost:8080/"
        },
        "id": "QpYAsDn-S7B8",
        "outputId": "c33770a4-db37-4089-81bc-0ba0355c0359"
      },
      "source": [
        "test(print, file = \"doc.txt\", file1 = \"doc3.txt\")"
      ],
      "execution_count": null,
      "outputs": [
        {
          "output_type": "stream",
          "name": "stdout",
          "text": [
            "file\n",
            "file1\n"
          ]
        }
      ]
    },
    {
      "cell_type": "code",
      "metadata": {
        "id": "Xb6G4cPfTTnT",
        "colab": {
          "base_uri": "https://localhost:8080/",
          "height": 36
        },
        "outputId": "e926d3d6-3edf-4531-b72d-81a3d42f26ea"
      },
      "source": [
        "path = os.path.join(\"/mnt\",\"sdcard\")\n",
        "path"
      ],
      "execution_count": null,
      "outputs": [
        {
          "output_type": "execute_result",
          "data": {
            "application/vnd.google.colaboratory.intrinsic+json": {
              "type": "string"
            },
            "text/plain": [
              "'/mnt/sdcard'"
            ]
          },
          "metadata": {},
          "execution_count": 24
        }
      ]
    },
    {
      "cell_type": "code",
      "metadata": {
        "colab": {
          "base_uri": "https://localhost:8080/"
        },
        "id": "TOyKGOmJkSyV",
        "outputId": "c0306848-9081-4e3c-8e1b-f3216594b944"
      },
      "source": [
        "type(path)"
      ],
      "execution_count": null,
      "outputs": [
        {
          "output_type": "execute_result",
          "data": {
            "text/plain": [
              "str"
            ]
          },
          "metadata": {},
          "execution_count": 25
        }
      ]
    },
    {
      "cell_type": "code",
      "metadata": {
        "id": "smSShjRlkYZz"
      },
      "source": [
        "import os\n",
        "import pathlib\n",
        "\n",
        "def remove_lines(folder, file, patterns =[\"*\", \"-\"]):\n",
        "    \"\"\"Remueve las lineas que contienen patrones listados y reescribe el archivo\n",
        "    original.\n",
        "    \n",
        "    Argumentos:\n",
        "    -------------------------------------------------------------\n",
        "        folder<String>: Ruta absoluta a la carpeta que contiene el archivo\n",
        "        file<String>: Nombre del archivo a filtrar\n",
        "        patterns<List>: Caracteres que contienen las lineas a ser removidas\n",
        "    \n",
        "    Returns:\n",
        "    ----------------------------------------------------------------\n",
        "        True, si el archivo puede editarse\n",
        "        False, si no es un archivo editable\n",
        "    \"\"\"\n",
        "    absolute = os.path.join(folder,file)\n",
        "    file = pathlib.Path(absolute)\n",
        "    if file.is_file():\n",
        "        with open(absolute, mode=\"r\") as f:\n",
        "            lines = f.read()\n",
        "        \n",
        "        filtered = []\n",
        "        for line in lines:\n",
        "            aux = 0\n",
        "            for pattern in patterns:\n",
        "                if pattern in line:\n",
        "                    aux +=1\n",
        "            if aux == 0:\n",
        "                filtered.append(line)\n",
        "        \n",
        "        res = \"\".join(filtered)\n",
        "        g = open(absolute, mode=\"w\")\n",
        "        g.write(res)\n",
        "        g.close()\n",
        "        return True\n",
        "    return False"
      ],
      "execution_count": null,
      "outputs": []
    },
    {
      "cell_type": "code",
      "metadata": {
        "id": "mGrXBDPxkbEP"
      },
      "source": [
        "f = open(\"/content/doc.txt\")\n",
        "f.readlines()"
      ],
      "execution_count": null,
      "outputs": []
    },
    {
      "cell_type": "code",
      "metadata": {
        "id": "-xisHuch1y6s",
        "colab": {
          "base_uri": "https://localhost:8080/",
          "height": 300
        },
        "outputId": "3e39e315-7bf3-4c03-d5e6-5e1f15b0bd01"
      },
      "source": [
        "import matplotlib\n",
        "#matplotlib.rc(\"text\", usetex = True)\n",
        "plt.plot([0,1], [0,1])\n",
        "plt.title(\"$\\mathbf{Intento 1}$\")"
      ],
      "execution_count": null,
      "outputs": [
        {
          "output_type": "execute_result",
          "data": {
            "text/plain": [
              "Text(0.5, 1.0, '$\\\\mathbf{Intento 1}$')"
            ]
          },
          "metadata": {},
          "execution_count": 5
        },
        {
          "output_type": "display_data",
          "data": {
            "image/png": "[encoded data removed]",
            "text/plain": [
              "<Figure size 432x288 with 1 Axes>"
            ]
          },
          "metadata": {
            "needs_background": "light"
          }
        }
      ]
    },
    {
      "cell_type": "code",
      "metadata": {
        "id": "a_rV2oI5QPJb"
      },
      "source": [
        ""
      ],
      "execution_count": null,
      "outputs": []
    }
  ]
}